{
 "cells": [
  {
   "cell_type": "code",
   "execution_count": 1,
   "id": "d31cf1da-cd3e-4a54-8f95-11a42bb0e7d8",
   "metadata": {},
   "outputs": [],
   "source": [
    "import tensorflow as tf\n",
    "import pandas as pd\n",
    "import numpy as np\n",
    "import sys\n",
    "import os\n",
    "\n",
    "from sklearn.preprocessing import StandardScaler\n",
    "from sklearn.model_selection import train_test_split\n",
    "from tensorflow.keras import regularizers\n",
    "from sklearn.decomposition import PCA"
   ]
  },
  {
   "cell_type": "markdown",
   "id": "731782c2-5b5d-49d3-9352-44c8079d393f",
   "metadata": {},
   "source": [
    "Notes:\n",
    "* Going to take the top 75 scoring players in the leage\n",
    "    - in 1995-96 season, there were only 92 players in the leage\n",
    "    - lowest ranked scorer that won the mvp was Steve Nash in 2005 where he averaged 15.5 PPG (63rd in the leage)\n",
    "* csv files are in the directory of the 2nd year in the season. ex. the 95-96 season will be in the 1996 directory\n",
    "* in the directory for the year, there is a players.csv file and a teams.csv file\n",
    "    - the teams.csv file is so that I can associate a team record with the players\n",
    "    - advanced data only goes back until the 1980 season\n",
    "* the mvp.csv dataset is in the outer data dir and has the name of each mvp winner since the 65-66 season\n"
   ]
  },
  {
   "cell_type": "markdown",
   "id": "bb5ddf01-b9c1-440d-84d3-0debe3de840f",
   "metadata": {},
   "source": [
    "**GET DATA SAMPLE**"
   ]
  },
  {
   "cell_type": "code",
   "execution_count": 2,
   "id": "de98369c-7067-41df-800a-426871d44850",
   "metadata": {},
   "outputs": [],
   "source": [
    "# get standard player data \n",
    "def get_data(year):\n",
    "    players = pd.read_csv(\"data/\" + year + \"/players.csv\")\n",
    "    unique_rows = players.groupby(\"Player\").filter(lambda x: len(x) == 1)\n",
    "    return unique_rows"
   ]
  },
  {
   "cell_type": "code",
   "execution_count": 3,
   "id": "b57c5947-6368-4a26-b265-34a617105aed",
   "metadata": {},
   "outputs": [],
   "source": [
    "# get standard player data \n",
    "def get_advanced_data(year):\n",
    "    advanced = pd.read_csv(\"data/\" + year + \"/advanced.csv\")\n",
    "    unique_rows = advanced.groupby(\"Player\").filter(lambda x: len(x) == 1)\n",
    "    \n",
    "    metrics = [ \"Player\", \"PER\", \"TS%\", \"3PAr\", \"FTr\", \"ORB%\", \"DRB%\", \"TRB%\", \"AST%\", \"STL%\", \"BLK%\", \"TOV%\", \"USG%\", \"OWS\", \"DWS\", \"WS\", \"WS/48\", \"OBPM\", \"DBPM\", \"BPM\", \"VORP\"]\n",
    "    advanced_filtered = unique_rows[metrics]\n",
    "    \n",
    "    return advanced_filtered"
   ]
  },
  {
   "cell_type": "code",
   "execution_count": 4,
   "id": "a03cca7d-161a-4f18-99ba-3f779c390423",
   "metadata": {},
   "outputs": [],
   "source": [
    "# get the team data and turn it into something usable\n",
    "\n",
    "def get_team_data(year):\n",
    "    teams_vs = pd.read_csv(\"data/\" + year + \"/teams.csv\")\n",
    "    teams_vs = teams_vs.drop(columns=['Rk'])\n",
    "    \n",
    "    teams = pd.DataFrame(columns=['Team', 'Abbreviation', 'Wins', 'Losses', 'Win%'])\n",
    "    \n",
    "    # Get abbreviation and record\n",
    "    for index, row in teams_vs.iterrows():\n",
    "    \n",
    "        # extract wins and losses\n",
    "        row_wins = 0\n",
    "        row_losses = 0\n",
    "        for record in row:\n",
    "            if pd.notna(record) and len(record) < 6:\n",
    "                win_loss = record.split('-')\n",
    "                row_wins += int(win_loss[0])\n",
    "                row_losses += int(win_loss[1])\n",
    "    \n",
    "        # don't divide by 0\n",
    "        if row_losses == 0:\n",
    "            win_pct = 1\n",
    "        else:\n",
    "            win_pct = row_wins/(row_losses+row_wins)\n",
    "    \n",
    "        # add to df    \n",
    "        teams.loc[len(teams)] = ({'Team': row['Team'], 'Abbreviation': row.index[row.name + 1], 'Wins': row_wins, 'Losses': row_losses, 'Win%': win_pct})\n",
    "    \n",
    "    # get overall team rank in the nba\n",
    "    teams = teams.sort_values(by='Win%', ascending=False)\n",
    "    teams = teams.reset_index(drop=True)\n",
    "    teams['Team_Rank'] = teams.index+1\n",
    "    \n",
    "    return teams\n",
    "\n",
    "# get_team_data(\"2025\")"
   ]
  },
  {
   "cell_type": "code",
   "execution_count": 5,
   "id": "0e6abc30-fc1a-4fd9-a768-bb788bdfa240",
   "metadata": {},
   "outputs": [],
   "source": [
    "# transform the player data into something uniform that we can use\n",
    "def get_top_75_filtered(players):\n",
    "    \n",
    "    # remove entries for players that played on multiple teams, just look at the last team they played for\n",
    "    players_filtered = players.drop_duplicates(subset='Player', keep='last').reset_index()\n",
    "    \n",
    "    # sort by points per game and take top 75 candidates\n",
    "    players_sorted = players_filtered.sort_values(by=\"PTS\", ascending=False)\n",
    "    top_75 = players_sorted.head(75).copy()\n",
    "    \n",
    "    # metrics we are using\n",
    "    metrics = [\"Player\", \"Age\", \"Team\", \"Pos\", \"G\", \"GS\", \"MP\", \"FG\", \"FGA\", \"FG%\", \"3P\", \"3P%\", \"2P\", \"2PA\", \"2P%\", \"eFG%\", \"FT\", \"FTA\", \"FT%\", \"ORB\", \"DRB\", \"TRB\", \"AST\", \"STL\", \"BLK\", \"TOV\", \"PF\", \"PTS\"]\n",
    "    top_75_filtered = top_75[metrics]\n",
    "    return top_75_filtered\n"
   ]
  },
  {
   "cell_type": "code",
   "execution_count": 6,
   "id": "6046e44a-feac-4532-805c-1e41e3e14699",
   "metadata": {},
   "outputs": [],
   "source": [
    "# combine into final dataframe\n",
    "def merge_data(top_75_filtered, teams, advanced):\n",
    "    player_team_df = pd.merge(top_75_filtered, teams, left_on='Team', right_on='Abbreviation')\n",
    "    player_team_advanced_df = pd.merge(player_team_df, advanced, left_on='Player', right_on='Player')\n",
    "    return player_team_advanced_df"
   ]
  },
  {
   "cell_type": "code",
   "execution_count": 7,
   "id": "3a25c8f4-17cb-4de1-be32-280bc82e82dd",
   "metadata": {},
   "outputs": [],
   "source": [
    "# verify that all teams matched, this should print an empty dataframe\n",
    "def verify_team_match(top_75_filtered, teams):\n",
    "    unmatched_teams = top_75_filtered[~top_75_filtered['Team_x'].isin(teams['Abbreviation'])]\n",
    "    if len(unmatched_teams['Team_x']) > 0:\n",
    "        print(unmatched_teams)\n",
    "        return 1\n",
    "    return 0\n",
    "        "
   ]
  },
  {
   "cell_type": "code",
   "execution_count": 8,
   "id": "d9fc9409-df68-4589-813e-f791312e1a94",
   "metadata": {},
   "outputs": [],
   "source": [
    "# verify that all advanced stats matched with a player, this should print an empty dataframe\n",
    "def verify_player_match(top_75_filtered, players):\n",
    "    unmatched_players = top_75_filtered[~top_75_filtered['Player'].isin(players['Player'])]\n",
    "    if len(unmatched_players['Player']) > 0:\n",
    "        print(unmatched_players)\n",
    "        return 1\n",
    "    return 0"
   ]
  },
  {
   "cell_type": "code",
   "execution_count": 9,
   "id": "b6b5d5e4-af6b-4b97-b997-66019d92bb83",
   "metadata": {},
   "outputs": [],
   "source": [
    "# only keep numerical variables, don't worry about player name, team name, etc\n",
    "def get_numerical_df(player_season_final_df):\n",
    "    numerical_df = player_season_final_df.select_dtypes(include=['number'])\n",
    "    return numerical_df"
   ]
  },
  {
   "cell_type": "code",
   "execution_count": 10,
   "id": "8907c2c3-9f11-4364-8902-600cb3b95312",
   "metadata": {},
   "outputs": [],
   "source": [
    "def get_mvp_by_year(year):\n",
    "    mvps = pd.read_csv(\"data/mvps.csv\")\n",
    "    result = mvps.loc[mvps['Season'].str[:4].astype(int) == int(year) - 1, 'Player'].values\n",
    "\n",
    "    if(len(result) == 1):\n",
    "        return result[0]\n",
    "    else:\n",
    "        print(\"found \", len(result), \" MVPs in year \" + year)"
   ]
  },
  {
   "cell_type": "code",
   "execution_count": 11,
   "id": "237d5b89-e65b-426b-851c-2fbab9a9c1d6",
   "metadata": {},
   "outputs": [],
   "source": [
    "def get_final_df_by_year(year):\n",
    "    # get the data\n",
    "    og_data = get_data(year)\n",
    "    top_75 = get_top_75_filtered(og_data)\n",
    "    team_data = get_team_data(year)\n",
    "    advanced_data = get_advanced_data(year)\n",
    "\n",
    "    # merge it\n",
    "    player_team_advanced_combined = merge_data(top_75, team_data, advanced_data)\n",
    "\n",
    "\n",
    "    # verify merge worked correctly\n",
    "    if verify_team_match(player_team_advanced_combined, team_data) > 0:\n",
    "        print(\"Team merge did not work correctly. Aborting\")\n",
    "        sys.exit()\n",
    "\n",
    "    # verify merge worked correctly\n",
    "    if verify_player_match(player_team_advanced_combined, advanced_data) > 0:\n",
    "        print(\"Advanced stats merge did not work correctly. Aborting\")\n",
    "        sys.exit()\n",
    "\n",
    "    # add year and MVP attribute\n",
    "    player_team_advanced_combined['Year'] = int(year)\n",
    "    player_team_advanced_combined['MVP'] = (player_team_advanced_combined['Player'] == get_mvp_by_year(year)).astype(int) \n",
    "\n",
    "    # using these metrics makes the model overfit like crazy because the correlate so much with the MVP\n",
    "    # might want to minimize features through dimentionality reduction?\n",
    "    # metrics = ['Age', 'G', 'GS', 'MP', 'FG', 'FGA', 'FG%', '3P', '3P%', '2P', '2PA', \n",
    "    #            '2P%', 'eFG%', 'FT', 'FTA', 'FT%', 'ORB', 'DRB', 'TRB', 'AST', 'STL', \n",
    "    #            'BLK', 'TOV', 'PF', 'PTS', 'Wins', 'Losses', 'Win%', 'Team_Rank', 'PER', \n",
    "    #            'TS%', '3PAr', 'FTr', 'ORB%', 'DRB%', 'TRB%', 'AST%', 'STL%', 'BLK%', \n",
    "    #            'TOV%', 'USG%', 'OWS', 'DWS', 'WS', 'WS/48', 'OBPM', 'DBPM', 'BPM', 'VORP', 'Year', 'MVP']\n",
    "\n",
    "    # these are the metrics that correlate most with MVP wins according to the Data_Sci_Comparison analysis\n",
    "    metrics = [\"BPM\", \"WS/48\", \"WS\", \"OBPM\", \"OWS\", \"PTS\", \"DBPM\", \"FG\", \"FTA\", \"FT\", \"PER\", \"Win%\", \"USG%\", \"DWS\", \"Wins\", \"VORP\", \"Losses\", \"Team_Rank\", \"MVP\"]\n",
    "    \n",
    "    # using these metrics and a batch size of 1 overfits the training data like crazy\n",
    "    # metrics = [\"PER\", \"WS\", \"WS/48\", \"PTS\", \"FG%\", \"AST\", \"Age\", \"MP\", \"TRB\", \"G\", \"MVP\"]\n",
    "    \n",
    "    # get only numeric variables\n",
    "    numerical_df = get_numerical_df(player_team_advanced_combined[metrics])\n",
    "\n",
    "    #put in random order\n",
    "    # shuffled_df = numerical_df.sample(frac=1, random_state=42).reset_index(drop=True)\n",
    "\n",
    "    return numerical_df"
   ]
  },
  {
   "cell_type": "code",
   "execution_count": 12,
   "id": "6859308a-037e-4331-9d2a-44894cd08bba",
   "metadata": {},
   "outputs": [],
   "source": [
    "def get_all_years_arr():\n",
    "    scaler = StandardScaler()\n",
    "    \n",
    "    all_years_df = []\n",
    "    # get all the data from all the years\n",
    "    for year_dir in os.listdir(\"data\"):\n",
    "\n",
    "        #skip current year\n",
    "        if year_dir == \"2025\" or (year_dir != \"mvps.csv\" and int(year_dir) < 1980):\n",
    "            continue\n",
    "            \n",
    "        # verify that the item is a directory and not a file. the mvps.csv file will be ignored\n",
    "        if os.path.isdir(os.path.join(\"data\", year_dir)):\n",
    "            year_df = get_final_df_by_year(year_dir)\n",
    "            all_years_df.append(year_df)\n",
    "            \n",
    "    print(list(all_years_df[0].columns))\n",
    "\n",
    "    return np.array(all_years_df)\n",
    "       \n",
    "    \n"
   ]
  },
  {
   "cell_type": "markdown",
   "id": "160c450d-1b6d-4e05-85dc-52662200e20b",
   "metadata": {},
   "source": [
    "**MAKE MODEL**"
   ]
  },
  {
   "cell_type": "code",
   "execution_count": 13,
   "id": "55044d5a-5fc6-4f09-8828-b7f10b0bdf19",
   "metadata": {},
   "outputs": [
    {
     "name": "stdout",
     "output_type": "stream",
     "text": [
      "['BPM', 'WS/48', 'WS', 'OBPM', 'OWS', 'PTS', 'DBPM', 'FG', 'FTA', 'FT', 'PER', 'Win%', 'USG%', 'DWS', 'Wins', 'VORP', 'Losses', 'Team_Rank', 'MVP']\n"
     ]
    }
   ],
   "source": [
    "# get data for model\n",
    "all_years_arr = get_all_years_arr()\n",
    "\n",
    "#split into training/validation/test\n",
    "train_arr, temp_arr = train_test_split(all_years_arr, test_size=0.3, random_state=20)\n",
    "val_arr, test_arr = train_test_split(temp_arr, test_size=0.5, random_state=20)\n",
    "\n",
    "# Separate features (X) and labels (y)\n",
    "X_train = train_arr[:, :, :-1]\n",
    "y_train = train_arr[:, :, -1]\n",
    "\n",
    "X_val = val_arr[:, :, :-1]\n",
    "y_val = val_arr[:, :, -1]\n",
    "\n",
    "X_test = test_arr[:, :, :-1]\n",
    "y_test = test_arr[:, :, -1]"
   ]
  },
  {
   "cell_type": "code",
   "execution_count": 14,
   "id": "f5aa66b8-dc3e-4a6a-a83e-866b7194b228",
   "metadata": {},
   "outputs": [],
   "source": [
    "tf.random.set_seed(42)\n",
    "model = tf.keras.Sequential()\n",
    "\n",
    "model.add(tf.keras.layers.InputLayer(shape=[X_train.shape[1], X_train.shape[2]]))\n",
    "\n",
    "model.add(tf.keras.layers.LayerNormalization(axis=-1))\n",
    "\n",
    "# Apply TimeDistributed Dense layers to process each player's features independently\n",
    "model.add(tf.keras.layers.TimeDistributed(tf.keras.layers.Dense(20, activation=\"relu\")))\n",
    "model.add(tf.keras.layers.TimeDistributed(tf.keras.layers.Dense(20, activation=\"relu\")))\n",
    "\n",
    "model.add(tf.keras.layers.Flatten())\n",
    "\n",
    "# Apply softmax across the 75 players\n",
    "model.add(tf.keras.layers.Dense(X_train.shape[1], activation=\"softmax\"))\n"
   ]
  },
  {
   "cell_type": "code",
   "execution_count": 15,
   "id": "e42e6d34-119b-4719-af63-064303ace1d7",
   "metadata": {},
   "outputs": [
    {
     "data": {
      "text/html": [
       "<pre style=\"white-space:pre;overflow-x:auto;line-height:normal;font-family:Menlo,'DejaVu Sans Mono',consolas,'Courier New',monospace\"><span style=\"font-weight: bold\">Model: \"sequential\"</span>\n",
       "</pre>\n"
      ],
      "text/plain": [
       "\u001b[1mModel: \"sequential\"\u001b[0m\n"
      ]
     },
     "metadata": {},
     "output_type": "display_data"
    },
    {
     "data": {
      "text/html": [
       "<pre style=\"white-space:pre;overflow-x:auto;line-height:normal;font-family:Menlo,'DejaVu Sans Mono',consolas,'Courier New',monospace\">┏━━━━━━━━━━━━━━━━━━━━━━━━━━━━━━━━━━━━━━┳━━━━━━━━━━━━━━━━━━━━━━━━━━━━━┳━━━━━━━━━━━━━━━━━┓\n",
       "┃<span style=\"font-weight: bold\"> Layer (type)                         </span>┃<span style=\"font-weight: bold\"> Output Shape                </span>┃<span style=\"font-weight: bold\">         Param # </span>┃\n",
       "┡━━━━━━━━━━━━━━━━━━━━━━━━━━━━━━━━━━━━━━╇━━━━━━━━━━━━━━━━━━━━━━━━━━━━━╇━━━━━━━━━━━━━━━━━┩\n",
       "│ layer_normalization                  │ (<span style=\"color: #00d7ff; text-decoration-color: #00d7ff\">None</span>, <span style=\"color: #00af00; text-decoration-color: #00af00\">75</span>, <span style=\"color: #00af00; text-decoration-color: #00af00\">18</span>)              │              <span style=\"color: #00af00; text-decoration-color: #00af00\">36</span> │\n",
       "│ (<span style=\"color: #0087ff; text-decoration-color: #0087ff\">LayerNormalization</span>)                 │                             │                 │\n",
       "├──────────────────────────────────────┼─────────────────────────────┼─────────────────┤\n",
       "│ time_distributed (<span style=\"color: #0087ff; text-decoration-color: #0087ff\">TimeDistributed</span>)   │ (<span style=\"color: #00d7ff; text-decoration-color: #00d7ff\">None</span>, <span style=\"color: #00af00; text-decoration-color: #00af00\">75</span>, <span style=\"color: #00af00; text-decoration-color: #00af00\">20</span>)              │             <span style=\"color: #00af00; text-decoration-color: #00af00\">380</span> │\n",
       "├──────────────────────────────────────┼─────────────────────────────┼─────────────────┤\n",
       "│ time_distributed_1 (<span style=\"color: #0087ff; text-decoration-color: #0087ff\">TimeDistributed</span>) │ (<span style=\"color: #00d7ff; text-decoration-color: #00d7ff\">None</span>, <span style=\"color: #00af00; text-decoration-color: #00af00\">75</span>, <span style=\"color: #00af00; text-decoration-color: #00af00\">20</span>)              │             <span style=\"color: #00af00; text-decoration-color: #00af00\">420</span> │\n",
       "├──────────────────────────────────────┼─────────────────────────────┼─────────────────┤\n",
       "│ flatten (<span style=\"color: #0087ff; text-decoration-color: #0087ff\">Flatten</span>)                    │ (<span style=\"color: #00d7ff; text-decoration-color: #00d7ff\">None</span>, <span style=\"color: #00af00; text-decoration-color: #00af00\">1500</span>)                │               <span style=\"color: #00af00; text-decoration-color: #00af00\">0</span> │\n",
       "├──────────────────────────────────────┼─────────────────────────────┼─────────────────┤\n",
       "│ dense_2 (<span style=\"color: #0087ff; text-decoration-color: #0087ff\">Dense</span>)                      │ (<span style=\"color: #00d7ff; text-decoration-color: #00d7ff\">None</span>, <span style=\"color: #00af00; text-decoration-color: #00af00\">75</span>)                  │         <span style=\"color: #00af00; text-decoration-color: #00af00\">112,575</span> │\n",
       "└──────────────────────────────────────┴─────────────────────────────┴─────────────────┘\n",
       "</pre>\n"
      ],
      "text/plain": [
       "┏━━━━━━━━━━━━━━━━━━━━━━━━━━━━━━━━━━━━━━┳━━━━━━━━━━━━━━━━━━━━━━━━━━━━━┳━━━━━━━━━━━━━━━━━┓\n",
       "┃\u001b[1m \u001b[0m\u001b[1mLayer (type)                        \u001b[0m\u001b[1m \u001b[0m┃\u001b[1m \u001b[0m\u001b[1mOutput Shape               \u001b[0m\u001b[1m \u001b[0m┃\u001b[1m \u001b[0m\u001b[1m        Param #\u001b[0m\u001b[1m \u001b[0m┃\n",
       "┡━━━━━━━━━━━━━━━━━━━━━━━━━━━━━━━━━━━━━━╇━━━━━━━━━━━━━━━━━━━━━━━━━━━━━╇━━━━━━━━━━━━━━━━━┩\n",
       "│ layer_normalization                  │ (\u001b[38;5;45mNone\u001b[0m, \u001b[38;5;34m75\u001b[0m, \u001b[38;5;34m18\u001b[0m)              │              \u001b[38;5;34m36\u001b[0m │\n",
       "│ (\u001b[38;5;33mLayerNormalization\u001b[0m)                 │                             │                 │\n",
       "├──────────────────────────────────────┼─────────────────────────────┼─────────────────┤\n",
       "│ time_distributed (\u001b[38;5;33mTimeDistributed\u001b[0m)   │ (\u001b[38;5;45mNone\u001b[0m, \u001b[38;5;34m75\u001b[0m, \u001b[38;5;34m20\u001b[0m)              │             \u001b[38;5;34m380\u001b[0m │\n",
       "├──────────────────────────────────────┼─────────────────────────────┼─────────────────┤\n",
       "│ time_distributed_1 (\u001b[38;5;33mTimeDistributed\u001b[0m) │ (\u001b[38;5;45mNone\u001b[0m, \u001b[38;5;34m75\u001b[0m, \u001b[38;5;34m20\u001b[0m)              │             \u001b[38;5;34m420\u001b[0m │\n",
       "├──────────────────────────────────────┼─────────────────────────────┼─────────────────┤\n",
       "│ flatten (\u001b[38;5;33mFlatten\u001b[0m)                    │ (\u001b[38;5;45mNone\u001b[0m, \u001b[38;5;34m1500\u001b[0m)                │               \u001b[38;5;34m0\u001b[0m │\n",
       "├──────────────────────────────────────┼─────────────────────────────┼─────────────────┤\n",
       "│ dense_2 (\u001b[38;5;33mDense\u001b[0m)                      │ (\u001b[38;5;45mNone\u001b[0m, \u001b[38;5;34m75\u001b[0m)                  │         \u001b[38;5;34m112,575\u001b[0m │\n",
       "└──────────────────────────────────────┴─────────────────────────────┴─────────────────┘\n"
      ]
     },
     "metadata": {},
     "output_type": "display_data"
    },
    {
     "data": {
      "text/html": [
       "<pre style=\"white-space:pre;overflow-x:auto;line-height:normal;font-family:Menlo,'DejaVu Sans Mono',consolas,'Courier New',monospace\"><span style=\"font-weight: bold\"> Total params: </span><span style=\"color: #00af00; text-decoration-color: #00af00\">113,411</span> (443.01 KB)\n",
       "</pre>\n"
      ],
      "text/plain": [
       "\u001b[1m Total params: \u001b[0m\u001b[38;5;34m113,411\u001b[0m (443.01 KB)\n"
      ]
     },
     "metadata": {},
     "output_type": "display_data"
    },
    {
     "data": {
      "text/html": [
       "<pre style=\"white-space:pre;overflow-x:auto;line-height:normal;font-family:Menlo,'DejaVu Sans Mono',consolas,'Courier New',monospace\"><span style=\"font-weight: bold\"> Trainable params: </span><span style=\"color: #00af00; text-decoration-color: #00af00\">113,411</span> (443.01 KB)\n",
       "</pre>\n"
      ],
      "text/plain": [
       "\u001b[1m Trainable params: \u001b[0m\u001b[38;5;34m113,411\u001b[0m (443.01 KB)\n"
      ]
     },
     "metadata": {},
     "output_type": "display_data"
    },
    {
     "data": {
      "text/html": [
       "<pre style=\"white-space:pre;overflow-x:auto;line-height:normal;font-family:Menlo,'DejaVu Sans Mono',consolas,'Courier New',monospace\"><span style=\"font-weight: bold\"> Non-trainable params: </span><span style=\"color: #00af00; text-decoration-color: #00af00\">0</span> (0.00 B)\n",
       "</pre>\n"
      ],
      "text/plain": [
       "\u001b[1m Non-trainable params: \u001b[0m\u001b[38;5;34m0\u001b[0m (0.00 B)\n"
      ]
     },
     "metadata": {},
     "output_type": "display_data"
    }
   ],
   "source": [
    "model.summary()"
   ]
  },
  {
   "cell_type": "code",
   "execution_count": 16,
   "id": "01e0aac2-1354-493b-a736-dab08a27fbff",
   "metadata": {},
   "outputs": [],
   "source": [
    "optimizer = tf.keras.optimizers.SGD(learning_rate=0.01)\n",
    "model.compile(loss=\"categorical_crossentropy\",\n",
    "              optimizer=optimizer,\n",
    "              metrics=[\"accuracy\"])"
   ]
  },
  {
   "cell_type": "markdown",
   "id": "68d217a2-777e-4959-abcd-a54241e7580d",
   "metadata": {},
   "source": [
    "**TRAIN MODEL**"
   ]
  },
  {
   "cell_type": "code",
   "execution_count": 17,
   "id": "ade2dc3c-bdac-496f-a6c2-52cebd3fa1e4",
   "metadata": {},
   "outputs": [
    {
     "name": "stdout",
     "output_type": "stream",
     "text": [
      "Epoch 1/60\n",
      "\u001b[1m1/1\u001b[0m \u001b[32m━━━━━━━━━━━━━━━━━━━━\u001b[0m\u001b[37m\u001b[0m \u001b[1m21s\u001b[0m 21s/step - accuracy: 0.0000e+00 - loss: 4.3230 - val_accuracy: 0.0000e+00 - val_loss: 4.4187\n",
      "Epoch 2/60\n",
      "\u001b[1m1/1\u001b[0m \u001b[32m━━━━━━━━━━━━━━━━━━━━\u001b[0m\u001b[37m\u001b[0m \u001b[1m0s\u001b[0m 194ms/step - accuracy: 0.0645 - loss: 4.2039 - val_accuracy: 0.2857 - val_loss: 4.3039\n",
      "Epoch 3/60\n",
      "\u001b[1m1/1\u001b[0m \u001b[32m━━━━━━━━━━━━━━━━━━━━\u001b[0m\u001b[37m\u001b[0m \u001b[1m0s\u001b[0m 207ms/step - accuracy: 0.2581 - loss: 4.0887 - val_accuracy: 0.2857 - val_loss: 4.1900\n",
      "Epoch 4/60\n",
      "\u001b[1m1/1\u001b[0m \u001b[32m━━━━━━━━━━━━━━━━━━━━\u001b[0m\u001b[37m\u001b[0m \u001b[1m0s\u001b[0m 213ms/step - accuracy: 0.2581 - loss: 3.9731 - val_accuracy: 0.2857 - val_loss: 4.0737\n",
      "Epoch 5/60\n",
      "\u001b[1m1/1\u001b[0m \u001b[32m━━━━━━━━━━━━━━━━━━━━\u001b[0m\u001b[37m\u001b[0m \u001b[1m0s\u001b[0m 244ms/step - accuracy: 0.2581 - loss: 3.8543 - val_accuracy: 0.2857 - val_loss: 3.9547\n",
      "Epoch 6/60\n",
      "\u001b[1m1/1\u001b[0m \u001b[32m━━━━━━━━━━━━━━━━━━━━\u001b[0m\u001b[37m\u001b[0m \u001b[1m0s\u001b[0m 232ms/step - accuracy: 0.2581 - loss: 3.7318 - val_accuracy: 0.2857 - val_loss: 3.8337\n",
      "Epoch 7/60\n",
      "\u001b[1m1/1\u001b[0m \u001b[32m━━━━━━━━━━━━━━━━━━━━\u001b[0m\u001b[37m\u001b[0m \u001b[1m0s\u001b[0m 231ms/step - accuracy: 0.2581 - loss: 3.6068 - val_accuracy: 0.2857 - val_loss: 3.7148\n",
      "Epoch 8/60\n",
      "\u001b[1m1/1\u001b[0m \u001b[32m━━━━━━━━━━━━━━━━━━━━\u001b[0m\u001b[37m\u001b[0m \u001b[1m0s\u001b[0m 210ms/step - accuracy: 0.2581 - loss: 3.4838 - val_accuracy: 0.2857 - val_loss: 3.6045\n",
      "Epoch 9/60\n",
      "\u001b[1m1/1\u001b[0m \u001b[32m━━━━━━━━━━━━━━━━━━━━\u001b[0m\u001b[37m\u001b[0m \u001b[1m0s\u001b[0m 222ms/step - accuracy: 0.2581 - loss: 3.3690 - val_accuracy: 0.2857 - val_loss: 3.5083\n",
      "Epoch 10/60\n",
      "\u001b[1m1/1\u001b[0m \u001b[32m━━━━━━━━━━━━━━━━━━━━\u001b[0m\u001b[37m\u001b[0m \u001b[1m0s\u001b[0m 215ms/step - accuracy: 0.2581 - loss: 3.2680 - val_accuracy: 0.2857 - val_loss: 3.4284\n",
      "Epoch 11/60\n",
      "\u001b[1m1/1\u001b[0m \u001b[32m━━━━━━━━━━━━━━━━━━━━\u001b[0m\u001b[37m\u001b[0m \u001b[1m0s\u001b[0m 236ms/step - accuracy: 0.2581 - loss: 3.1819 - val_accuracy: 0.2857 - val_loss: 3.3627\n",
      "Epoch 12/60\n",
      "\u001b[1m1/1\u001b[0m \u001b[32m━━━━━━━━━━━━━━━━━━━━\u001b[0m\u001b[37m\u001b[0m \u001b[1m0s\u001b[0m 210ms/step - accuracy: 0.2581 - loss: 3.1081 - val_accuracy: 0.2857 - val_loss: 3.3075\n",
      "Epoch 13/60\n",
      "\u001b[1m1/1\u001b[0m \u001b[32m━━━━━━━━━━━━━━━━━━━━\u001b[0m\u001b[37m\u001b[0m \u001b[1m0s\u001b[0m 233ms/step - accuracy: 0.2581 - loss: 3.0433 - val_accuracy: 0.2857 - val_loss: 3.2604\n",
      "Epoch 14/60\n",
      "\u001b[1m1/1\u001b[0m \u001b[32m━━━━━━━━━━━━━━━━━━━━\u001b[0m\u001b[37m\u001b[0m \u001b[1m0s\u001b[0m 206ms/step - accuracy: 0.2581 - loss: 2.9859 - val_accuracy: 0.2857 - val_loss: 3.2199\n",
      "Epoch 15/60\n",
      "\u001b[1m1/1\u001b[0m \u001b[32m━━━━━━━━━━━━━━━━━━━━\u001b[0m\u001b[37m\u001b[0m \u001b[1m0s\u001b[0m 146ms/step - accuracy: 0.2581 - loss: 2.9349 - val_accuracy: 0.2857 - val_loss: 3.1844\n",
      "Epoch 16/60\n",
      "\u001b[1m1/1\u001b[0m \u001b[32m━━━━━━━━━━━━━━━━━━━━\u001b[0m\u001b[37m\u001b[0m \u001b[1m0s\u001b[0m 200ms/step - accuracy: 0.2581 - loss: 2.8892 - val_accuracy: 0.2857 - val_loss: 3.1526\n",
      "Epoch 17/60\n",
      "\u001b[1m1/1\u001b[0m \u001b[32m━━━━━━━━━━━━━━━━━━━━\u001b[0m\u001b[37m\u001b[0m \u001b[1m0s\u001b[0m 185ms/step - accuracy: 0.2581 - loss: 2.8479 - val_accuracy: 0.2857 - val_loss: 3.1237\n",
      "Epoch 18/60\n",
      "\u001b[1m1/1\u001b[0m \u001b[32m━━━━━━━━━━━━━━━━━━━━\u001b[0m\u001b[37m\u001b[0m \u001b[1m0s\u001b[0m 269ms/step - accuracy: 0.2581 - loss: 2.8100 - val_accuracy: 0.2857 - val_loss: 3.0966\n",
      "Epoch 19/60\n",
      "\u001b[1m1/1\u001b[0m \u001b[32m━━━━━━━━━━━━━━━━━━━━\u001b[0m\u001b[37m\u001b[0m \u001b[1m0s\u001b[0m 219ms/step - accuracy: 0.2581 - loss: 2.7749 - val_accuracy: 0.2857 - val_loss: 3.0711\n",
      "Epoch 20/60\n",
      "\u001b[1m1/1\u001b[0m \u001b[32m━━━━━━━━━━━━━━━━━━━━\u001b[0m\u001b[37m\u001b[0m \u001b[1m0s\u001b[0m 208ms/step - accuracy: 0.2581 - loss: 2.7418 - val_accuracy: 0.2857 - val_loss: 3.0464\n",
      "Epoch 21/60\n",
      "\u001b[1m1/1\u001b[0m \u001b[32m━━━━━━━━━━━━━━━━━━━━\u001b[0m\u001b[37m\u001b[0m \u001b[1m0s\u001b[0m 215ms/step - accuracy: 0.2581 - loss: 2.7104 - val_accuracy: 0.2857 - val_loss: 3.0226\n",
      "Epoch 22/60\n",
      "\u001b[1m1/1\u001b[0m \u001b[32m━━━━━━━━━━━━━━━━━━━━\u001b[0m\u001b[37m\u001b[0m \u001b[1m0s\u001b[0m 248ms/step - accuracy: 0.2581 - loss: 2.6804 - val_accuracy: 0.2857 - val_loss: 2.9992\n",
      "Epoch 23/60\n",
      "\u001b[1m1/1\u001b[0m \u001b[32m━━━━━━━━━━━━━━━━━━━━\u001b[0m\u001b[37m\u001b[0m \u001b[1m0s\u001b[0m 198ms/step - accuracy: 0.2581 - loss: 2.6516 - val_accuracy: 0.2857 - val_loss: 2.9761\n",
      "Epoch 24/60\n",
      "\u001b[1m1/1\u001b[0m \u001b[32m━━━━━━━━━━━━━━━━━━━━\u001b[0m\u001b[37m\u001b[0m \u001b[1m0s\u001b[0m 225ms/step - accuracy: 0.2581 - loss: 2.6240 - val_accuracy: 0.2857 - val_loss: 2.9533\n",
      "Epoch 25/60\n",
      "\u001b[1m1/1\u001b[0m \u001b[32m━━━━━━━━━━━━━━━━━━━━\u001b[0m\u001b[37m\u001b[0m \u001b[1m0s\u001b[0m 219ms/step - accuracy: 0.2581 - loss: 2.5975 - val_accuracy: 0.2857 - val_loss: 2.9306\n",
      "Epoch 26/60\n",
      "\u001b[1m1/1\u001b[0m \u001b[32m━━━━━━━━━━━━━━━━━━━━\u001b[0m\u001b[37m\u001b[0m \u001b[1m0s\u001b[0m 230ms/step - accuracy: 0.2581 - loss: 2.5721 - val_accuracy: 0.1429 - val_loss: 2.9079\n",
      "Epoch 27/60\n",
      "\u001b[1m1/1\u001b[0m \u001b[32m━━━━━━━━━━━━━━━━━━━━\u001b[0m\u001b[37m\u001b[0m \u001b[1m0s\u001b[0m 313ms/step - accuracy: 0.2581 - loss: 2.5477 - val_accuracy: 0.1429 - val_loss: 2.8851\n",
      "Epoch 28/60\n",
      "\u001b[1m1/1\u001b[0m \u001b[32m━━━━━━━━━━━━━━━━━━━━\u001b[0m\u001b[37m\u001b[0m \u001b[1m0s\u001b[0m 208ms/step - accuracy: 0.2581 - loss: 2.5243 - val_accuracy: 0.1429 - val_loss: 2.8621\n",
      "Epoch 29/60\n",
      "\u001b[1m1/1\u001b[0m \u001b[32m━━━━━━━━━━━━━━━━━━━━\u001b[0m\u001b[37m\u001b[0m \u001b[1m0s\u001b[0m 196ms/step - accuracy: 0.2581 - loss: 2.5017 - val_accuracy: 0.1429 - val_loss: 2.8392\n",
      "Epoch 30/60\n",
      "\u001b[1m1/1\u001b[0m \u001b[32m━━━━━━━━━━━━━━━━━━━━\u001b[0m\u001b[37m\u001b[0m \u001b[1m0s\u001b[0m 199ms/step - accuracy: 0.2581 - loss: 2.4800 - val_accuracy: 0.1429 - val_loss: 2.8163\n",
      "Epoch 31/60\n",
      "\u001b[1m1/1\u001b[0m \u001b[32m━━━━━━━━━━━━━━━━━━━━\u001b[0m\u001b[37m\u001b[0m \u001b[1m0s\u001b[0m 234ms/step - accuracy: 0.2581 - loss: 2.4591 - val_accuracy: 0.1429 - val_loss: 2.7936\n",
      "Epoch 32/60\n",
      "\u001b[1m1/1\u001b[0m \u001b[32m━━━━━━━━━━━━━━━━━━━━\u001b[0m\u001b[37m\u001b[0m \u001b[1m0s\u001b[0m 224ms/step - accuracy: 0.2581 - loss: 2.4389 - val_accuracy: 0.1429 - val_loss: 2.7709\n",
      "Epoch 33/60\n",
      "\u001b[1m1/1\u001b[0m \u001b[32m━━━━━━━━━━━━━━━━━━━━\u001b[0m\u001b[37m\u001b[0m \u001b[1m0s\u001b[0m 237ms/step - accuracy: 0.2581 - loss: 2.4194 - val_accuracy: 0.1429 - val_loss: 2.7485\n",
      "Epoch 34/60\n",
      "\u001b[1m1/1\u001b[0m \u001b[32m━━━━━━━━━━━━━━━━━━━━\u001b[0m\u001b[37m\u001b[0m \u001b[1m0s\u001b[0m 214ms/step - accuracy: 0.2581 - loss: 2.4006 - val_accuracy: 0.1429 - val_loss: 2.7266\n",
      "Epoch 35/60\n",
      "\u001b[1m1/1\u001b[0m \u001b[32m━━━━━━━━━━━━━━━━━━━━\u001b[0m\u001b[37m\u001b[0m \u001b[1m0s\u001b[0m 236ms/step - accuracy: 0.2581 - loss: 2.3825 - val_accuracy: 0.1429 - val_loss: 2.7052\n",
      "Epoch 36/60\n",
      "\u001b[1m1/1\u001b[0m \u001b[32m━━━━━━━━━━━━━━━━━━━━\u001b[0m\u001b[37m\u001b[0m \u001b[1m0s\u001b[0m 230ms/step - accuracy: 0.2581 - loss: 2.3650 - val_accuracy: 0.1429 - val_loss: 2.6845\n",
      "Epoch 37/60\n",
      "\u001b[1m1/1\u001b[0m \u001b[32m━━━━━━━━━━━━━━━━━━━━\u001b[0m\u001b[37m\u001b[0m \u001b[1m0s\u001b[0m 164ms/step - accuracy: 0.2581 - loss: 2.3481 - val_accuracy: 0.1429 - val_loss: 2.6646\n",
      "Epoch 38/60\n",
      "\u001b[1m1/1\u001b[0m \u001b[32m━━━━━━━━━━━━━━━━━━━━\u001b[0m\u001b[37m\u001b[0m \u001b[1m0s\u001b[0m 189ms/step - accuracy: 0.2903 - loss: 2.3317 - val_accuracy: 0.1429 - val_loss: 2.6455\n",
      "Epoch 39/60\n",
      "\u001b[1m1/1\u001b[0m \u001b[32m━━━━━━━━━━━━━━━━━━━━\u001b[0m\u001b[37m\u001b[0m \u001b[1m0s\u001b[0m 185ms/step - accuracy: 0.2903 - loss: 2.3160 - val_accuracy: 0.1429 - val_loss: 2.6274\n",
      "Epoch 40/60\n",
      "\u001b[1m1/1\u001b[0m \u001b[32m━━━━━━━━━━━━━━━━━━━━\u001b[0m\u001b[37m\u001b[0m \u001b[1m0s\u001b[0m 142ms/step - accuracy: 0.2903 - loss: 2.3007 - val_accuracy: 0.1429 - val_loss: 2.6105\n",
      "Epoch 41/60\n",
      "\u001b[1m1/1\u001b[0m \u001b[32m━━━━━━━━━━━━━━━━━━━━\u001b[0m\u001b[37m\u001b[0m \u001b[1m0s\u001b[0m 165ms/step - accuracy: 0.3226 - loss: 2.2858 - val_accuracy: 0.1429 - val_loss: 2.5949\n",
      "Epoch 42/60\n",
      "\u001b[1m1/1\u001b[0m \u001b[32m━━━━━━━━━━━━━━━━━━━━\u001b[0m\u001b[37m\u001b[0m \u001b[1m0s\u001b[0m 223ms/step - accuracy: 0.3226 - loss: 2.2714 - val_accuracy: 0.1429 - val_loss: 2.5803\n",
      "Epoch 43/60\n",
      "\u001b[1m1/1\u001b[0m \u001b[32m━━━━━━━━━━━━━━━━━━━━\u001b[0m\u001b[37m\u001b[0m \u001b[1m0s\u001b[0m 151ms/step - accuracy: 0.3226 - loss: 2.2574 - val_accuracy: 0.1429 - val_loss: 2.5667\n",
      "Epoch 44/60\n",
      "\u001b[1m1/1\u001b[0m \u001b[32m━━━━━━━━━━━━━━━━━━━━\u001b[0m\u001b[37m\u001b[0m \u001b[1m0s\u001b[0m 139ms/step - accuracy: 0.3226 - loss: 2.2437 - val_accuracy: 0.1429 - val_loss: 2.5541\n",
      "Epoch 45/60\n",
      "\u001b[1m1/1\u001b[0m \u001b[32m━━━━━━━━━━━━━━━━━━━━\u001b[0m\u001b[37m\u001b[0m \u001b[1m0s\u001b[0m 147ms/step - accuracy: 0.3226 - loss: 2.2303 - val_accuracy: 0.1429 - val_loss: 2.5427\n",
      "Epoch 46/60\n",
      "\u001b[1m1/1\u001b[0m \u001b[32m━━━━━━━━━━━━━━━━━━━━\u001b[0m\u001b[37m\u001b[0m \u001b[1m0s\u001b[0m 246ms/step - accuracy: 0.3226 - loss: 2.2171 - val_accuracy: 0.1429 - val_loss: 2.5323\n",
      "Epoch 47/60\n",
      "\u001b[1m1/1\u001b[0m \u001b[32m━━━━━━━━━━━━━━━━━━━━\u001b[0m\u001b[37m\u001b[0m \u001b[1m0s\u001b[0m 148ms/step - accuracy: 0.3226 - loss: 2.2041 - val_accuracy: 0.1429 - val_loss: 2.5229\n",
      "Epoch 48/60\n",
      "\u001b[1m1/1\u001b[0m \u001b[32m━━━━━━━━━━━━━━━━━━━━\u001b[0m\u001b[37m\u001b[0m \u001b[1m0s\u001b[0m 166ms/step - accuracy: 0.3226 - loss: 2.1912 - val_accuracy: 0.1429 - val_loss: 2.5145\n",
      "Epoch 49/60\n",
      "\u001b[1m1/1\u001b[0m \u001b[32m━━━━━━━━━━━━━━━━━━━━\u001b[0m\u001b[37m\u001b[0m \u001b[1m0s\u001b[0m 181ms/step - accuracy: 0.3226 - loss: 2.1783 - val_accuracy: 0.1429 - val_loss: 2.5071\n",
      "Epoch 50/60\n",
      "\u001b[1m1/1\u001b[0m \u001b[32m━━━━━━━━━━━━━━━━━━━━\u001b[0m\u001b[37m\u001b[0m \u001b[1m0s\u001b[0m 158ms/step - accuracy: 0.3548 - loss: 2.1654 - val_accuracy: 0.1429 - val_loss: 2.5002\n",
      "Epoch 51/60\n",
      "\u001b[1m1/1\u001b[0m \u001b[32m━━━━━━━━━━━━━━━━━━━━\u001b[0m\u001b[37m\u001b[0m \u001b[1m0s\u001b[0m 175ms/step - accuracy: 0.3548 - loss: 2.1526 - val_accuracy: 0.2857 - val_loss: 2.4939\n",
      "Epoch 52/60\n",
      "\u001b[1m1/1\u001b[0m \u001b[32m━━━━━━━━━━━━━━━━━━━━\u001b[0m\u001b[37m\u001b[0m \u001b[1m0s\u001b[0m 167ms/step - accuracy: 0.3548 - loss: 2.1398 - val_accuracy: 0.2857 - val_loss: 2.4884\n",
      "Epoch 53/60\n",
      "\u001b[1m1/1\u001b[0m \u001b[32m━━━━━━━━━━━━━━━━━━━━\u001b[0m\u001b[37m\u001b[0m \u001b[1m0s\u001b[0m 196ms/step - accuracy: 0.3548 - loss: 2.1268 - val_accuracy: 0.2857 - val_loss: 2.4838\n",
      "Epoch 54/60\n",
      "\u001b[1m1/1\u001b[0m \u001b[32m━━━━━━━━━━━━━━━━━━━━\u001b[0m\u001b[37m\u001b[0m \u001b[1m0s\u001b[0m 188ms/step - accuracy: 0.3548 - loss: 2.1137 - val_accuracy: 0.2857 - val_loss: 2.4793\n",
      "Epoch 55/60\n",
      "\u001b[1m1/1\u001b[0m \u001b[32m━━━━━━━━━━━━━━━━━━━━\u001b[0m\u001b[37m\u001b[0m \u001b[1m0s\u001b[0m 324ms/step - accuracy: 0.3548 - loss: 2.1006 - val_accuracy: 0.2857 - val_loss: 2.4751\n",
      "Epoch 56/60\n",
      "\u001b[1m1/1\u001b[0m \u001b[32m━━━━━━━━━━━━━━━━━━━━\u001b[0m\u001b[37m\u001b[0m \u001b[1m0s\u001b[0m 175ms/step - accuracy: 0.3548 - loss: 2.0874 - val_accuracy: 0.2857 - val_loss: 2.4714\n",
      "Epoch 57/60\n",
      "\u001b[1m1/1\u001b[0m \u001b[32m━━━━━━━━━━━━━━━━━━━━\u001b[0m\u001b[37m\u001b[0m \u001b[1m0s\u001b[0m 177ms/step - accuracy: 0.3871 - loss: 2.0739 - val_accuracy: 0.2857 - val_loss: 2.4676\n",
      "Epoch 58/60\n",
      "\u001b[1m1/1\u001b[0m \u001b[32m━━━━━━━━━━━━━━━━━━━━\u001b[0m\u001b[37m\u001b[0m \u001b[1m0s\u001b[0m 145ms/step - accuracy: 0.3871 - loss: 2.0603 - val_accuracy: 0.2857 - val_loss: 2.4642\n",
      "Epoch 59/60\n",
      "\u001b[1m1/1\u001b[0m \u001b[32m━━━━━━━━━━━━━━━━━━━━\u001b[0m\u001b[37m\u001b[0m \u001b[1m0s\u001b[0m 170ms/step - accuracy: 0.3871 - loss: 2.0464 - val_accuracy: 0.2857 - val_loss: 2.4611\n",
      "Epoch 60/60\n",
      "\u001b[1m1/1\u001b[0m \u001b[32m━━━━━━━━━━━━━━━━━━━━\u001b[0m\u001b[37m\u001b[0m \u001b[1m0s\u001b[0m 178ms/step - accuracy: 0.3871 - loss: 2.0324 - val_accuracy: 0.2857 - val_loss: 2.4587\n"
     ]
    }
   ],
   "source": [
    "history = model.fit(X_train, y_train, epochs=60, batch_size=X_test.shape[1], validation_data=(X_val, y_val))"
   ]
  },
  {
   "cell_type": "code",
   "execution_count": 18,
   "id": "89d1ec5a-86c3-47c1-9afe-23b7060e0329",
   "metadata": {},
   "outputs": [
    {
     "name": "stdout",
     "output_type": "stream",
     "text": [
      "\u001b[1m1/1\u001b[0m \u001b[32m━━━━━━━━━━━━━━━━━━━━\u001b[0m\u001b[37m\u001b[0m \u001b[1m0s\u001b[0m 92ms/step - accuracy: 0.3871 - loss: 2.0180\n",
      "Training data Loss: 2.018019437789917\n",
      "Training data Accuracy: 0.3870967626571655\n"
     ]
    }
   ],
   "source": [
    "train_loss, train_accuracy = model.evaluate(X_train, y_train)\n",
    "print(f\"Training data Loss: {train_loss}\")\n",
    "print(f\"Training data Accuracy: {train_accuracy}\")"
   ]
  },
  {
   "cell_type": "code",
   "execution_count": 19,
   "id": "3b2563dd-968a-4658-b31d-ee3249b3ef17",
   "metadata": {},
   "outputs": [
    {
     "name": "stdout",
     "output_type": "stream",
     "text": [
      "\u001b[1m1/1\u001b[0m \u001b[32m━━━━━━━━━━━━━━━━━━━━\u001b[0m\u001b[37m\u001b[0m \u001b[1m0s\u001b[0m 98ms/step - accuracy: 0.2857 - loss: 2.4587\n",
      "Validation Loss: 2.458712100982666\n",
      "Validation Accuracy: 0.2857142984867096\n"
     ]
    }
   ],
   "source": [
    "val_loss, val_accuracy = model.evaluate(X_val, y_val)\n",
    "print(f\"Validation Loss: {val_loss}\")\n",
    "print(f\"Validation Accuracy: {val_accuracy}\")"
   ]
  },
  {
   "cell_type": "code",
   "execution_count": 20,
   "id": "f8ec872b-5a14-4ce8-93b5-a846f2d065c9",
   "metadata": {},
   "outputs": [
    {
     "name": "stdout",
     "output_type": "stream",
     "text": [
      "\u001b[1m1/1\u001b[0m \u001b[32m━━━━━━━━━━━━━━━━━━━━\u001b[0m\u001b[37m\u001b[0m \u001b[1m0s\u001b[0m 97ms/step - accuracy: 0.2857 - loss: 2.4725\n",
      "Test Loss: 2.4725191593170166\n",
      "Test Accuracy: 0.2857142984867096\n"
     ]
    }
   ],
   "source": [
    "test_loss, test_accuracy = model.evaluate(X_test, y_test)\n",
    "print(f\"Test Loss: {test_loss}\")\n",
    "print(f\"Test Accuracy: {test_accuracy}\")"
   ]
  },
  {
   "cell_type": "code",
   "execution_count": 21,
   "id": "43dc6b90-a7e7-4063-882f-514290fb7909",
   "metadata": {},
   "outputs": [
    {
     "name": "stdout",
     "output_type": "stream",
     "text": [
      "The MVP is the highest scorer  0.25806451612903225  of the time in the training set\n"
     ]
    }
   ],
   "source": [
    "count = 0\n",
    "for arr in y_train:\n",
    "    if arr[0] == 1:\n",
    "        count+=1\n",
    "print(\"The MVP is the highest scorer \", count/len(y_train), \" of the time in the training set\")"
   ]
  },
  {
   "cell_type": "code",
   "execution_count": 22,
   "id": "e966409a-08aa-4452-86eb-62402403ddeb",
   "metadata": {},
   "outputs": [
    {
     "name": "stdout",
     "output_type": "stream",
     "text": [
      "The MVP is the highest scorer  0.2857142857142857  of the time in the validation set\n"
     ]
    }
   ],
   "source": [
    "count = 0\n",
    "for arr in y_val:\n",
    "    if arr[0] == 1:\n",
    "        count+=1\n",
    "print(\"The MVP is the highest scorer \", count/len(y_val), \" of the time in the validation set\")"
   ]
  },
  {
   "cell_type": "code",
   "execution_count": 23,
   "id": "159ea957-aadd-4987-9b89-52b301fb29ad",
   "metadata": {},
   "outputs": [
    {
     "name": "stdout",
     "output_type": "stream",
     "text": [
      "The MVP is the highest scorer  0.2857142857142857  of the time in the test set\n"
     ]
    }
   ],
   "source": [
    "count = 0\n",
    "for arr in y_test:\n",
    "    if arr[0] == 1:\n",
    "        count+=1\n",
    "print(\"The MVP is the highest scorer \", count/len(y_val), \" of the time in the test set\")"
   ]
  },
  {
   "cell_type": "code",
   "execution_count": 24,
   "id": "49f74703-4fe0-4b90-91c4-36be39b7a806",
   "metadata": {},
   "outputs": [
    {
     "name": "stdout",
     "output_type": "stream",
     "text": [
      "found  0  MVPs in year 2025\n",
      "\u001b[1m1/1\u001b[0m \u001b[32m━━━━━━━━━━━━━━━━━━━━\u001b[0m\u001b[37m\u001b[0m \u001b[1m3s\u001b[0m 3s/step\n",
      "Giannis Antetokounmpo\n",
      "0     Giannis Antetokounmpo\n",
      "1               LaMelo Ball\n",
      "2              Nikola Jokić\n",
      "13            Jalen Brunson\n",
      "19             Franz Wagner\n",
      "5            Paolo Banchero\n",
      "11             Kevin Durant\n",
      "57              Gradey Dick\n",
      "10           Damian Lillard\n",
      "30             LeBron James\n",
      "Name: Player, dtype: object\n",
      "[0.17018645 0.12930414 0.07929717 0.03409615 0.02685943 0.0499174\n",
      " 0.03594106 0.03811937 0.00431851 0.02530732 0.04153103 0.04857042\n",
      " 0.00147257 0.05881923 0.00186288 0.00117846 0.00325371 0.0017729\n",
      " 0.00144867 0.05486441 0.0025457  0.0018023  0.00166757 0.00136676\n",
      " 0.00116982 0.0009645  0.00175905 0.00292846 0.00139883 0.00253806\n",
      " 0.03901352 0.00322647 0.00491002 0.00308497 0.00264229 0.00212066\n",
      " 0.00210931 0.00137393 0.00204239 0.00098163 0.00193947 0.00095026\n",
      " 0.00391281 0.00215822 0.00178856 0.0009628  0.00297048 0.00260107\n",
      " 0.00134057 0.00193858 0.00270706 0.00159357 0.00147928 0.00313349\n",
      " 0.00154425 0.00328588 0.00425783 0.04242123 0.00148766 0.00061089\n",
      " 0.00344138 0.00258727 0.00241752 0.00077313 0.00185459 0.00217013\n",
      " 0.00075607 0.00409457 0.00082206 0.00151226 0.00152261 0.00231953\n",
      " 0.0006398  0.00220374 0.00203392]\n"
     ]
    }
   ],
   "source": [
    "predict_yr = \"2025\"\n",
    "\n",
    "data = get_final_df_by_year(predict_yr).to_numpy()[:, :-1]\n",
    "shaped_data = data.reshape(1, X_train.shape[1], X_train.shape[2])\n",
    "prediction_arr = model.predict(shaped_data)\n",
    "mvp_idx = prediction_arr[0].argmax()\n",
    "top_10_indices = prediction_arr[0].argsort()[-10:][::-1]\n",
    "\n",
    "mvp = get_top_75_filtered(get_data(predict_yr))['Player'][mvp_idx]\n",
    "top_10_mvps = get_top_75_filtered(get_data(predict_yr))['Player'][top_10_indices]\n",
    "print(mvp)\n",
    "print(top_10_mvps)\n",
    "print(prediction_arr[0])\n",
    "# print(sum(prediction_arr[0]))\n"
   ]
  },
  {
   "cell_type": "code",
   "execution_count": null,
   "id": "1a0a9ea7-0f72-451e-9f3b-e2ba08a90b38",
   "metadata": {},
   "outputs": [],
   "source": []
  }
 ],
 "metadata": {
  "kernelspec": {
   "display_name": "Python 3 (ipykernel)",
   "language": "python",
   "name": "python3"
  },
  "language_info": {
   "codemirror_mode": {
    "name": "ipython",
    "version": 3
   },
   "file_extension": ".py",
   "mimetype": "text/x-python",
   "name": "python",
   "nbconvert_exporter": "python",
   "pygments_lexer": "ipython3",
   "version": "3.11.3"
  }
 },
 "nbformat": 4,
 "nbformat_minor": 5
}
