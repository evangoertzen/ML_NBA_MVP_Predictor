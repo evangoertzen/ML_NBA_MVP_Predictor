{
 "cells": [
  {
   "cell_type": "code",
   "execution_count": 1,
   "id": "d31cf1da-cd3e-4a54-8f95-11a42bb0e7d8",
   "metadata": {},
   "outputs": [],
   "source": [
    "import tensorflow as tf\n",
    "import pandas as pd\n",
    "import numpy as np\n",
    "import sys\n",
    "import os\n",
    "\n",
    "from sklearn.preprocessing import StandardScaler\n",
    "from sklearn.model_selection import train_test_split\n",
    "from tensorflow.keras import regularizers\n",
    "from sklearn.decomposition import PCA"
   ]
  },
  {
   "cell_type": "markdown",
   "id": "731782c2-5b5d-49d3-9352-44c8079d393f",
   "metadata": {},
   "source": [
    "Notes:\n",
    "* Going to take the top 75 scoring players in the leage\n",
    "    - in 1995-96 season, there were only 92 players in the leage\n",
    "    - lowest ranked scorer that won the mvp was Steve Nash in 2005 where he averaged 15.5 PPG (63rd in the leage)\n",
    "* csv files are in the directory of the 2nd year in the season. ex. the 95-96 season will be in the 1996 directory\n",
    "* in the directory for the year, there is a players.csv file and a teams.csv file\n",
    "    - the teams.csv file is so that I can associate a team record with the players\n",
    "    - advanced data only goes back until the 1980 season\n",
    "* the mvp.csv dataset is in the outer data dir and has the name of each mvp winner since the 65-66 season\n"
   ]
  },
  {
   "cell_type": "markdown",
   "id": "bb5ddf01-b9c1-440d-84d3-0debe3de840f",
   "metadata": {},
   "source": [
    "**GET DATA SAMPLE**"
   ]
  },
  {
   "cell_type": "code",
   "execution_count": 2,
   "id": "de98369c-7067-41df-800a-426871d44850",
   "metadata": {},
   "outputs": [],
   "source": [
    "# get standard player data \n",
    "def get_data(year):\n",
    "    players = pd.read_csv(\"data/\" + year + \"/players.csv\")\n",
    "    unique_rows = players.groupby(\"Player\").filter(lambda x: len(x) == 1)\n",
    "    return unique_rows"
   ]
  },
  {
   "cell_type": "code",
   "execution_count": 3,
   "id": "b57c5947-6368-4a26-b265-34a617105aed",
   "metadata": {},
   "outputs": [],
   "source": [
    "# get standard player data \n",
    "def get_advanced_data(year):\n",
    "    advanced = pd.read_csv(\"data/\" + year + \"/advanced.csv\")\n",
    "    unique_rows = advanced.groupby(\"Player\").filter(lambda x: len(x) == 1)\n",
    "    \n",
    "    metrics = [ \"Player\", \"PER\", \"TS%\", \"3PAr\", \"FTr\", \"ORB%\", \"DRB%\", \"TRB%\", \"AST%\", \"STL%\", \"BLK%\", \"TOV%\", \"USG%\", \"OWS\", \"DWS\", \"WS\", \"WS/48\", \"OBPM\", \"DBPM\", \"BPM\", \"VORP\"]\n",
    "    advanced_filtered = unique_rows[metrics]\n",
    "    \n",
    "    return advanced_filtered"
   ]
  },
  {
   "cell_type": "code",
   "execution_count": 4,
   "id": "a03cca7d-161a-4f18-99ba-3f779c390423",
   "metadata": {},
   "outputs": [],
   "source": [
    "# get the team data and turn it into something usable\n",
    "\n",
    "def get_team_data(year):\n",
    "    teams_vs = pd.read_csv(\"data/\" + year + \"/teams.csv\")\n",
    "    teams_vs = teams_vs.drop(columns=['Rk'])\n",
    "    \n",
    "    teams = pd.DataFrame(columns=['Team', 'Abbreviation', 'Wins', 'Losses', 'Win%'])\n",
    "    \n",
    "    # Get abbreviation and record\n",
    "    for index, row in teams_vs.iterrows():\n",
    "    \n",
    "        # extract wins and losses\n",
    "        row_wins = 0\n",
    "        row_losses = 0\n",
    "        for record in row:\n",
    "            if pd.notna(record) and len(record) < 6:\n",
    "                win_loss = record.split('-')\n",
    "                row_wins += int(win_loss[0])\n",
    "                row_losses += int(win_loss[1])\n",
    "    \n",
    "        # don't divide by 0\n",
    "        if row_losses == 0:\n",
    "            win_pct = 1\n",
    "        else:\n",
    "            win_pct = row_wins/(row_losses+row_wins)\n",
    "    \n",
    "        # add to df    \n",
    "        teams.loc[len(teams)] = ({'Team': row['Team'], 'Abbreviation': row.index[row.name + 1], 'Wins': row_wins, 'Losses': row_losses, 'Win%': win_pct})\n",
    "    \n",
    "    # get overall team rank in the nba\n",
    "    teams = teams.sort_values(by='Win%', ascending=False)\n",
    "    teams = teams.reset_index(drop=True)\n",
    "    teams['Team_Rank'] = teams.index+1\n",
    "    \n",
    "    return teams\n",
    "\n",
    "# get_team_data(\"2025\")"
   ]
  },
  {
   "cell_type": "code",
   "execution_count": 5,
   "id": "0e6abc30-fc1a-4fd9-a768-bb788bdfa240",
   "metadata": {},
   "outputs": [],
   "source": [
    "# transform the player data into something uniform that we can use\n",
    "def get_top_75_filtered(players):\n",
    "    \n",
    "    # remove entries for players that played on multiple teams, just look at the last team they played for\n",
    "    players_filtered = players.drop_duplicates(subset='Player', keep='last').reset_index()\n",
    "    \n",
    "    # sort by points per game and take top 75 candidates\n",
    "    players_sorted = players_filtered.sort_values(by=\"PTS\", ascending=False)\n",
    "    top_75 = players_sorted.head(75).copy()\n",
    "    \n",
    "    # metrics we are using\n",
    "    metrics = [\"Player\", \"Age\", \"Team\", \"Pos\", \"G\", \"GS\", \"MP\", \"FG\", \"FGA\", \"FG%\", \"3P\", \"3P%\", \"2P\", \"2PA\", \"2P%\", \"eFG%\", \"FT\", \"FTA\", \"FT%\", \"ORB\", \"DRB\", \"TRB\", \"AST\", \"STL\", \"BLK\", \"TOV\", \"PF\", \"PTS\"]\n",
    "    top_75_filtered = top_75[metrics]\n",
    "    return top_75_filtered\n"
   ]
  },
  {
   "cell_type": "code",
   "execution_count": 6,
   "id": "6046e44a-feac-4532-805c-1e41e3e14699",
   "metadata": {},
   "outputs": [],
   "source": [
    "# combine into final dataframe\n",
    "def merge_data(top_75_filtered, teams, advanced):\n",
    "    player_team_df = pd.merge(top_75_filtered, teams, left_on='Team', right_on='Abbreviation')\n",
    "    player_team_advanced_df = pd.merge(player_team_df, advanced, left_on='Player', right_on='Player')\n",
    "    return player_team_advanced_df"
   ]
  },
  {
   "cell_type": "code",
   "execution_count": 7,
   "id": "3a25c8f4-17cb-4de1-be32-280bc82e82dd",
   "metadata": {},
   "outputs": [],
   "source": [
    "# verify that all teams matched, this should print an empty dataframe\n",
    "def verify_team_match(top_75_filtered, teams):\n",
    "    unmatched_teams = top_75_filtered[~top_75_filtered['Team_x'].isin(teams['Abbreviation'])]\n",
    "    if len(unmatched_teams['Team_x']) > 0:\n",
    "        print(unmatched_teams)\n",
    "        return 1\n",
    "    return 0\n",
    "        "
   ]
  },
  {
   "cell_type": "code",
   "execution_count": 8,
   "id": "d9fc9409-df68-4589-813e-f791312e1a94",
   "metadata": {},
   "outputs": [],
   "source": [
    "# verify that all advanced stats matched with a player, this should print an empty dataframe\n",
    "def verify_player_match(top_75_filtered, players):\n",
    "    unmatched_players = top_75_filtered[~top_75_filtered['Player'].isin(players['Player'])]\n",
    "    if len(unmatched_players['Player']) > 0:\n",
    "        print(unmatched_players)\n",
    "        return 1\n",
    "    return 0"
   ]
  },
  {
   "cell_type": "code",
   "execution_count": 9,
   "id": "b6b5d5e4-af6b-4b97-b997-66019d92bb83",
   "metadata": {},
   "outputs": [],
   "source": [
    "# only keep numerical variables, don't worry about player name, team name, etc\n",
    "def get_numerical_df(player_season_final_df):\n",
    "    numerical_df = player_season_final_df.select_dtypes(include=['number'])\n",
    "    return numerical_df"
   ]
  },
  {
   "cell_type": "code",
   "execution_count": 10,
   "id": "8907c2c3-9f11-4364-8902-600cb3b95312",
   "metadata": {},
   "outputs": [],
   "source": [
    "def get_mvp_by_year(year):\n",
    "    mvps = pd.read_csv(\"data/mvps.csv\")\n",
    "    result = mvps.loc[mvps['Season'].str[:4].astype(int) == int(year) - 1, 'Player'].values\n",
    "\n",
    "    if(len(result) == 1):\n",
    "        return result[0]\n",
    "    else:\n",
    "        print(\"found \", len(result), \" MVPs in year \" + year)"
   ]
  },
  {
   "cell_type": "code",
   "execution_count": 11,
   "id": "237d5b89-e65b-426b-851c-2fbab9a9c1d6",
   "metadata": {},
   "outputs": [],
   "source": [
    "def get_final_df_by_year(year):\n",
    "    # get the data\n",
    "    og_data = get_data(year)\n",
    "    top_75 = get_top_75_filtered(og_data)\n",
    "    team_data = get_team_data(year)\n",
    "    advanced_data = get_advanced_data(year)\n",
    "\n",
    "    # merge it\n",
    "    player_team_advanced_combined = merge_data(top_75, team_data, advanced_data)\n",
    "\n",
    "\n",
    "    # verify merge worked correctly\n",
    "    if verify_team_match(player_team_advanced_combined, team_data) > 0:\n",
    "        print(\"Team merge did not work correctly. Aborting\")\n",
    "        sys.exit()\n",
    "\n",
    "    # verify merge worked correctly\n",
    "    if verify_player_match(player_team_advanced_combined, advanced_data) > 0:\n",
    "        print(\"Advanced stats merge did not work correctly. Aborting\")\n",
    "        sys.exit()\n",
    "\n",
    "    # add year and MVP attribute\n",
    "    player_team_advanced_combined['Year'] = int(year)\n",
    "    player_team_advanced_combined['MVP'] = (player_team_advanced_combined['Player'] == get_mvp_by_year(year)).astype(int) \n",
    "\n",
    "    # using these metrics makes the model overfit like crazy because the correlate so much with the MVP\n",
    "    # might want to minimize features through dimentionality reduction?\n",
    "    metrics = ['Age', 'G', 'GS', 'MP', 'FG', 'FGA', 'FG%', '3P', '3P%', '2P', '2PA', '2P%', 'eFG%', 'FT', 'FTA', 'FT%', 'ORB', 'DRB', 'TRB', 'AST', 'STL', 'BLK', 'TOV', 'PF', 'PTS', 'Wins', 'Losses', 'Win%', 'Team_Rank', 'PER', 'TS%', '3PAr', 'FTr', 'ORB%', 'DRB%', 'TRB%', 'AST%', 'STL%', 'BLK%', 'TOV%', 'USG%', 'OWS', 'DWS', 'WS', 'WS/48', 'OBPM', 'DBPM', 'BPM', 'VORP', 'Year', 'MVP']\n",
    "\n",
    "    # using these metrics and a batch size of 1 overfits the training data like crazy\n",
    "    # metrics = [\"PER\", \"WS\", \"WS/48\", \"PTS\", \"FG%\", \"AST\", \"Age\", \"MP\", \"TRB\", \"G\", \"MVP\"]\n",
    "    \n",
    "    # get only numeric variables\n",
    "    numerical_df = get_numerical_df(player_team_advanced_combined[metrics])\n",
    "\n",
    "    #put in random order\n",
    "    # shuffled_df = numerical_df.sample(frac=1, random_state=42).reset_index(drop=True)\n",
    "\n",
    "    return numerical_df"
   ]
  },
  {
   "cell_type": "code",
   "execution_count": 12,
   "id": "6859308a-037e-4331-9d2a-44894cd08bba",
   "metadata": {},
   "outputs": [],
   "source": [
    "def get_all_years_arr():\n",
    "    scaler = StandardScaler()\n",
    "    \n",
    "    all_years_df = []\n",
    "    # get all the data from all the years\n",
    "    for year_dir in os.listdir(\"data\"):\n",
    "\n",
    "        #skip current year\n",
    "        if year_dir == \"2025\" or (year_dir != \"mvps.csv\" and int(year_dir) < 1980):\n",
    "            continue\n",
    "            \n",
    "        # verify that the item is a directory and not a file. the mvps.csv file will be ignored\n",
    "        if os.path.isdir(os.path.join(\"data\", year_dir)):\n",
    "            year_df = get_final_df_by_year(year_dir)\n",
    "            all_years_df.append(year_df)\n",
    "            \n",
    "    print(list(all_years_df[0].columns))\n",
    "\n",
    "    return np.array(all_years_df)\n",
    "       \n",
    "    \n"
   ]
  },
  {
   "cell_type": "markdown",
   "id": "160c450d-1b6d-4e05-85dc-52662200e20b",
   "metadata": {},
   "source": [
    "**MAKE MODEL**"
   ]
  },
  {
   "cell_type": "code",
   "execution_count": 13,
   "id": "55044d5a-5fc6-4f09-8828-b7f10b0bdf19",
   "metadata": {},
   "outputs": [
    {
     "name": "stdout",
     "output_type": "stream",
     "text": [
      "['Age', 'G', 'GS', 'MP', 'FG', 'FGA', 'FG%', '3P', '3P%', '2P', '2PA', '2P%', 'eFG%', 'FT', 'FTA', 'FT%', 'ORB', 'DRB', 'TRB', 'AST', 'STL', 'BLK', 'TOV', 'PF', 'PTS', 'Wins', 'Losses', 'Win%', 'Team_Rank', 'PER', 'TS%', '3PAr', 'FTr', 'ORB%', 'DRB%', 'TRB%', 'AST%', 'STL%', 'BLK%', 'TOV%', 'USG%', 'OWS', 'DWS', 'WS', 'WS/48', 'OBPM', 'DBPM', 'BPM', 'VORP', 'Year', 'MVP']\n"
     ]
    }
   ],
   "source": [
    "# get data for model\n",
    "all_years_arr = get_all_years_arr()\n",
    "\n",
    "#split into training/validation/test\n",
    "train_arr, temp_arr = train_test_split(all_years_arr, test_size=0.3, random_state=20)\n",
    "val_arr, test_arr = train_test_split(temp_arr, test_size=0.5, random_state=20)\n",
    "\n",
    "# Separate features (X) and labels (y)\n",
    "X_train = train_arr[:, :, :-1]\n",
    "y_train = train_arr[:, :, -1]\n",
    "\n",
    "X_val = val_arr[:, :, :-1]\n",
    "y_val = val_arr[:, :, -1]\n",
    "\n",
    "X_test = test_arr[:, :, :-1]\n",
    "y_test = test_arr[:, :, -1]"
   ]
  },
  {
   "cell_type": "code",
   "execution_count": 14,
   "id": "f5aa66b8-dc3e-4a6a-a83e-866b7194b228",
   "metadata": {},
   "outputs": [],
   "source": [
    "tf.random.set_seed(42)\n",
    "model = tf.keras.Sequential()\n",
    "\n",
    "model.add(tf.keras.layers.InputLayer(shape=[X_train.shape[1], X_train.shape[2]]))\n",
    "\n",
    "model.add(tf.keras.layers.LayerNormalization(axis=-1))\n",
    "\n",
    "# Apply TimeDistributed Dense layers to process each player's features independently\n",
    "model.add(tf.keras.layers.TimeDistributed(tf.keras.layers.Dense(300, activation=\"relu\")))\n",
    "model.add(tf.keras.layers.TimeDistributed(tf.keras.layers.Dense(300, activation=\"relu\")))\n",
    "\n",
    "model.add(tf.keras.layers.Flatten())\n",
    "\n",
    "# Apply softmax across the 75 players\n",
    "model.add(tf.keras.layers.Dense(X_train.shape[1], activation=\"softmax\"))\n"
   ]
  },
  {
   "cell_type": "code",
   "execution_count": 15,
   "id": "e42e6d34-119b-4719-af63-064303ace1d7",
   "metadata": {},
   "outputs": [
    {
     "data": {
      "text/html": [
       "<pre style=\"white-space:pre;overflow-x:auto;line-height:normal;font-family:Menlo,'DejaVu Sans Mono',consolas,'Courier New',monospace\"><span style=\"font-weight: bold\">Model: \"sequential\"</span>\n",
       "</pre>\n"
      ],
      "text/plain": [
       "\u001b[1mModel: \"sequential\"\u001b[0m\n"
      ]
     },
     "metadata": {},
     "output_type": "display_data"
    },
    {
     "data": {
      "text/html": [
       "<pre style=\"white-space:pre;overflow-x:auto;line-height:normal;font-family:Menlo,'DejaVu Sans Mono',consolas,'Courier New',monospace\">┏━━━━━━━━━━━━━━━━━━━━━━━━━━━━━━━━━━━━━━┳━━━━━━━━━━━━━━━━━━━━━━━━━━━━━┳━━━━━━━━━━━━━━━━━┓\n",
       "┃<span style=\"font-weight: bold\"> Layer (type)                         </span>┃<span style=\"font-weight: bold\"> Output Shape                </span>┃<span style=\"font-weight: bold\">         Param # </span>┃\n",
       "┡━━━━━━━━━━━━━━━━━━━━━━━━━━━━━━━━━━━━━━╇━━━━━━━━━━━━━━━━━━━━━━━━━━━━━╇━━━━━━━━━━━━━━━━━┩\n",
       "│ layer_normalization                  │ (<span style=\"color: #00d7ff; text-decoration-color: #00d7ff\">None</span>, <span style=\"color: #00af00; text-decoration-color: #00af00\">75</span>, <span style=\"color: #00af00; text-decoration-color: #00af00\">50</span>)              │             <span style=\"color: #00af00; text-decoration-color: #00af00\">100</span> │\n",
       "│ (<span style=\"color: #0087ff; text-decoration-color: #0087ff\">LayerNormalization</span>)                 │                             │                 │\n",
       "├──────────────────────────────────────┼─────────────────────────────┼─────────────────┤\n",
       "│ time_distributed (<span style=\"color: #0087ff; text-decoration-color: #0087ff\">TimeDistributed</span>)   │ (<span style=\"color: #00d7ff; text-decoration-color: #00d7ff\">None</span>, <span style=\"color: #00af00; text-decoration-color: #00af00\">75</span>, <span style=\"color: #00af00; text-decoration-color: #00af00\">300</span>)             │          <span style=\"color: #00af00; text-decoration-color: #00af00\">15,300</span> │\n",
       "├──────────────────────────────────────┼─────────────────────────────┼─────────────────┤\n",
       "│ time_distributed_1 (<span style=\"color: #0087ff; text-decoration-color: #0087ff\">TimeDistributed</span>) │ (<span style=\"color: #00d7ff; text-decoration-color: #00d7ff\">None</span>, <span style=\"color: #00af00; text-decoration-color: #00af00\">75</span>, <span style=\"color: #00af00; text-decoration-color: #00af00\">300</span>)             │          <span style=\"color: #00af00; text-decoration-color: #00af00\">90,300</span> │\n",
       "├──────────────────────────────────────┼─────────────────────────────┼─────────────────┤\n",
       "│ flatten (<span style=\"color: #0087ff; text-decoration-color: #0087ff\">Flatten</span>)                    │ (<span style=\"color: #00d7ff; text-decoration-color: #00d7ff\">None</span>, <span style=\"color: #00af00; text-decoration-color: #00af00\">22500</span>)               │               <span style=\"color: #00af00; text-decoration-color: #00af00\">0</span> │\n",
       "├──────────────────────────────────────┼─────────────────────────────┼─────────────────┤\n",
       "│ dense_2 (<span style=\"color: #0087ff; text-decoration-color: #0087ff\">Dense</span>)                      │ (<span style=\"color: #00d7ff; text-decoration-color: #00d7ff\">None</span>, <span style=\"color: #00af00; text-decoration-color: #00af00\">75</span>)                  │       <span style=\"color: #00af00; text-decoration-color: #00af00\">1,687,575</span> │\n",
       "└──────────────────────────────────────┴─────────────────────────────┴─────────────────┘\n",
       "</pre>\n"
      ],
      "text/plain": [
       "┏━━━━━━━━━━━━━━━━━━━━━━━━━━━━━━━━━━━━━━┳━━━━━━━━━━━━━━━━━━━━━━━━━━━━━┳━━━━━━━━━━━━━━━━━┓\n",
       "┃\u001b[1m \u001b[0m\u001b[1mLayer (type)                        \u001b[0m\u001b[1m \u001b[0m┃\u001b[1m \u001b[0m\u001b[1mOutput Shape               \u001b[0m\u001b[1m \u001b[0m┃\u001b[1m \u001b[0m\u001b[1m        Param #\u001b[0m\u001b[1m \u001b[0m┃\n",
       "┡━━━━━━━━━━━━━━━━━━━━━━━━━━━━━━━━━━━━━━╇━━━━━━━━━━━━━━━━━━━━━━━━━━━━━╇━━━━━━━━━━━━━━━━━┩\n",
       "│ layer_normalization                  │ (\u001b[38;5;45mNone\u001b[0m, \u001b[38;5;34m75\u001b[0m, \u001b[38;5;34m50\u001b[0m)              │             \u001b[38;5;34m100\u001b[0m │\n",
       "│ (\u001b[38;5;33mLayerNormalization\u001b[0m)                 │                             │                 │\n",
       "├──────────────────────────────────────┼─────────────────────────────┼─────────────────┤\n",
       "│ time_distributed (\u001b[38;5;33mTimeDistributed\u001b[0m)   │ (\u001b[38;5;45mNone\u001b[0m, \u001b[38;5;34m75\u001b[0m, \u001b[38;5;34m300\u001b[0m)             │          \u001b[38;5;34m15,300\u001b[0m │\n",
       "├──────────────────────────────────────┼─────────────────────────────┼─────────────────┤\n",
       "│ time_distributed_1 (\u001b[38;5;33mTimeDistributed\u001b[0m) │ (\u001b[38;5;45mNone\u001b[0m, \u001b[38;5;34m75\u001b[0m, \u001b[38;5;34m300\u001b[0m)             │          \u001b[38;5;34m90,300\u001b[0m │\n",
       "├──────────────────────────────────────┼─────────────────────────────┼─────────────────┤\n",
       "│ flatten (\u001b[38;5;33mFlatten\u001b[0m)                    │ (\u001b[38;5;45mNone\u001b[0m, \u001b[38;5;34m22500\u001b[0m)               │               \u001b[38;5;34m0\u001b[0m │\n",
       "├──────────────────────────────────────┼─────────────────────────────┼─────────────────┤\n",
       "│ dense_2 (\u001b[38;5;33mDense\u001b[0m)                      │ (\u001b[38;5;45mNone\u001b[0m, \u001b[38;5;34m75\u001b[0m)                  │       \u001b[38;5;34m1,687,575\u001b[0m │\n",
       "└──────────────────────────────────────┴─────────────────────────────┴─────────────────┘\n"
      ]
     },
     "metadata": {},
     "output_type": "display_data"
    },
    {
     "data": {
      "text/html": [
       "<pre style=\"white-space:pre;overflow-x:auto;line-height:normal;font-family:Menlo,'DejaVu Sans Mono',consolas,'Courier New',monospace\"><span style=\"font-weight: bold\"> Total params: </span><span style=\"color: #00af00; text-decoration-color: #00af00\">1,793,275</span> (6.84 MB)\n",
       "</pre>\n"
      ],
      "text/plain": [
       "\u001b[1m Total params: \u001b[0m\u001b[38;5;34m1,793,275\u001b[0m (6.84 MB)\n"
      ]
     },
     "metadata": {},
     "output_type": "display_data"
    },
    {
     "data": {
      "text/html": [
       "<pre style=\"white-space:pre;overflow-x:auto;line-height:normal;font-family:Menlo,'DejaVu Sans Mono',consolas,'Courier New',monospace\"><span style=\"font-weight: bold\"> Trainable params: </span><span style=\"color: #00af00; text-decoration-color: #00af00\">1,793,275</span> (6.84 MB)\n",
       "</pre>\n"
      ],
      "text/plain": [
       "\u001b[1m Trainable params: \u001b[0m\u001b[38;5;34m1,793,275\u001b[0m (6.84 MB)\n"
      ]
     },
     "metadata": {},
     "output_type": "display_data"
    },
    {
     "data": {
      "text/html": [
       "<pre style=\"white-space:pre;overflow-x:auto;line-height:normal;font-family:Menlo,'DejaVu Sans Mono',consolas,'Courier New',monospace\"><span style=\"font-weight: bold\"> Non-trainable params: </span><span style=\"color: #00af00; text-decoration-color: #00af00\">0</span> (0.00 B)\n",
       "</pre>\n"
      ],
      "text/plain": [
       "\u001b[1m Non-trainable params: \u001b[0m\u001b[38;5;34m0\u001b[0m (0.00 B)\n"
      ]
     },
     "metadata": {},
     "output_type": "display_data"
    }
   ],
   "source": [
    "model.summary()"
   ]
  },
  {
   "cell_type": "code",
   "execution_count": 16,
   "id": "01e0aac2-1354-493b-a736-dab08a27fbff",
   "metadata": {},
   "outputs": [],
   "source": [
    "optimizer = tf.keras.optimizers.SGD(learning_rate=0.01)\n",
    "model.compile(loss=\"categorical_crossentropy\",\n",
    "              optimizer=optimizer,\n",
    "              metrics=[\"accuracy\"])"
   ]
  },
  {
   "cell_type": "markdown",
   "id": "68d217a2-777e-4959-abcd-a54241e7580d",
   "metadata": {},
   "source": [
    "**TRAIN MODEL**"
   ]
  },
  {
   "cell_type": "code",
   "execution_count": 17,
   "id": "ade2dc3c-bdac-496f-a6c2-52cebd3fa1e4",
   "metadata": {},
   "outputs": [
    {
     "name": "stdout",
     "output_type": "stream",
     "text": [
      "Epoch 1/20\n",
      "\u001b[1m1/1\u001b[0m \u001b[32m━━━━━━━━━━━━━━━━━━━━\u001b[0m\u001b[37m\u001b[0m \u001b[1m12s\u001b[0m 12s/step - accuracy: 0.0000e+00 - loss: 4.4277 - val_accuracy: 0.2857 - val_loss: 4.3153\n",
      "Epoch 2/20\n",
      "\u001b[1m1/1\u001b[0m \u001b[32m━━━━━━━━━━━━━━━━━━━━\u001b[0m\u001b[37m\u001b[0m \u001b[1m0s\u001b[0m 144ms/step - accuracy: 0.2581 - loss: 4.3153 - val_accuracy: 0.2857 - val_loss: 4.3114\n",
      "Epoch 3/20\n",
      "\u001b[1m1/1\u001b[0m \u001b[32m━━━━━━━━━━━━━━━━━━━━\u001b[0m\u001b[37m\u001b[0m \u001b[1m0s\u001b[0m 153ms/step - accuracy: 0.2581 - loss: 4.3116 - val_accuracy: 0.2857 - val_loss: 4.3076\n",
      "Epoch 4/20\n",
      "\u001b[1m1/1\u001b[0m \u001b[32m━━━━━━━━━━━━━━━━━━━━\u001b[0m\u001b[37m\u001b[0m \u001b[1m0s\u001b[0m 188ms/step - accuracy: 0.2581 - loss: 4.3079 - val_accuracy: 0.2857 - val_loss: 4.3038\n",
      "Epoch 5/20\n",
      "\u001b[1m1/1\u001b[0m \u001b[32m━━━━━━━━━━━━━━━━━━━━\u001b[0m\u001b[37m\u001b[0m \u001b[1m0s\u001b[0m 177ms/step - accuracy: 0.2581 - loss: 4.3041 - val_accuracy: 0.2857 - val_loss: 4.3000\n",
      "Epoch 6/20\n",
      "\u001b[1m1/1\u001b[0m \u001b[32m━━━━━━━━━━━━━━━━━━━━\u001b[0m\u001b[37m\u001b[0m \u001b[1m0s\u001b[0m 209ms/step - accuracy: 0.2581 - loss: 4.3004 - val_accuracy: 0.2857 - val_loss: 4.2961\n",
      "Epoch 7/20\n",
      "\u001b[1m1/1\u001b[0m \u001b[32m━━━━━━━━━━━━━━━━━━━━\u001b[0m\u001b[37m\u001b[0m \u001b[1m0s\u001b[0m 208ms/step - accuracy: 0.2581 - loss: 4.2966 - val_accuracy: 0.2857 - val_loss: 4.2922\n",
      "Epoch 8/20\n",
      "\u001b[1m1/1\u001b[0m \u001b[32m━━━━━━━━━━━━━━━━━━━━\u001b[0m\u001b[37m\u001b[0m \u001b[1m0s\u001b[0m 236ms/step - accuracy: 0.2581 - loss: 4.2928 - val_accuracy: 0.2857 - val_loss: 4.2882\n",
      "Epoch 9/20\n",
      "\u001b[1m1/1\u001b[0m \u001b[32m━━━━━━━━━━━━━━━━━━━━\u001b[0m\u001b[37m\u001b[0m \u001b[1m0s\u001b[0m 231ms/step - accuracy: 0.2581 - loss: 4.2889 - val_accuracy: 0.2857 - val_loss: 4.2842\n",
      "Epoch 10/20\n",
      "\u001b[1m1/1\u001b[0m \u001b[32m━━━━━━━━━━━━━━━━━━━━\u001b[0m\u001b[37m\u001b[0m \u001b[1m0s\u001b[0m 242ms/step - accuracy: 0.2581 - loss: 4.2850 - val_accuracy: 0.2857 - val_loss: 4.2801\n",
      "Epoch 11/20\n",
      "\u001b[1m1/1\u001b[0m \u001b[32m━━━━━━━━━━━━━━━━━━━━\u001b[0m\u001b[37m\u001b[0m \u001b[1m0s\u001b[0m 280ms/step - accuracy: 0.2581 - loss: 4.2810 - val_accuracy: 0.2857 - val_loss: 4.2759\n",
      "Epoch 12/20\n",
      "\u001b[1m1/1\u001b[0m \u001b[32m━━━━━━━━━━━━━━━━━━━━\u001b[0m\u001b[37m\u001b[0m \u001b[1m0s\u001b[0m 324ms/step - accuracy: 0.2581 - loss: 4.2769 - val_accuracy: 0.2857 - val_loss: 4.2716\n",
      "Epoch 13/20\n",
      "\u001b[1m1/1\u001b[0m \u001b[32m━━━━━━━━━━━━━━━━━━━━\u001b[0m\u001b[37m\u001b[0m \u001b[1m0s\u001b[0m 367ms/step - accuracy: 0.2581 - loss: 4.2727 - val_accuracy: 0.2857 - val_loss: 4.2673\n",
      "Epoch 14/20\n",
      "\u001b[1m1/1\u001b[0m \u001b[32m━━━━━━━━━━━━━━━━━━━━\u001b[0m\u001b[37m\u001b[0m \u001b[1m0s\u001b[0m 365ms/step - accuracy: 0.2581 - loss: 4.2685 - val_accuracy: 0.2857 - val_loss: 4.2628\n",
      "Epoch 15/20\n",
      "\u001b[1m1/1\u001b[0m \u001b[32m━━━━━━━━━━━━━━━━━━━━\u001b[0m\u001b[37m\u001b[0m \u001b[1m0s\u001b[0m 394ms/step - accuracy: 0.2581 - loss: 4.2641 - val_accuracy: 0.2857 - val_loss: 4.2582\n",
      "Epoch 16/20\n",
      "\u001b[1m1/1\u001b[0m \u001b[32m━━━━━━━━━━━━━━━━━━━━\u001b[0m\u001b[37m\u001b[0m \u001b[1m0s\u001b[0m 418ms/step - accuracy: 0.2581 - loss: 4.2596 - val_accuracy: 0.2857 - val_loss: 4.2535\n",
      "Epoch 17/20\n",
      "\u001b[1m1/1\u001b[0m \u001b[32m━━━━━━━━━━━━━━━━━━━━\u001b[0m\u001b[37m\u001b[0m \u001b[1m0s\u001b[0m 397ms/step - accuracy: 0.2581 - loss: 4.2550 - val_accuracy: 0.2857 - val_loss: 4.2487\n",
      "Epoch 18/20\n",
      "\u001b[1m1/1\u001b[0m \u001b[32m━━━━━━━━━━━━━━━━━━━━\u001b[0m\u001b[37m\u001b[0m \u001b[1m1s\u001b[0m 545ms/step - accuracy: 0.2581 - loss: 4.2503 - val_accuracy: 0.2857 - val_loss: 4.2437\n",
      "Epoch 19/20\n",
      "\u001b[1m1/1\u001b[0m \u001b[32m━━━━━━━━━━━━━━━━━━━━\u001b[0m\u001b[37m\u001b[0m \u001b[1m0s\u001b[0m 373ms/step - accuracy: 0.2581 - loss: 4.2454 - val_accuracy: 0.2857 - val_loss: 4.2385\n",
      "Epoch 20/20\n",
      "\u001b[1m1/1\u001b[0m \u001b[32m━━━━━━━━━━━━━━━━━━━━\u001b[0m\u001b[37m\u001b[0m \u001b[1m0s\u001b[0m 373ms/step - accuracy: 0.2581 - loss: 4.2403 - val_accuracy: 0.2857 - val_loss: 4.2332\n"
     ]
    }
   ],
   "source": [
    "history = model.fit(X_train, y_train, epochs=20, batch_size=X_train.shape[1], validation_data=(X_val, y_val))"
   ]
  },
  {
   "cell_type": "code",
   "execution_count": 18,
   "id": "89d1ec5a-86c3-47c1-9afe-23b7060e0329",
   "metadata": {},
   "outputs": [
    {
     "name": "stdout",
     "output_type": "stream",
     "text": [
      "\u001b[1m1/1\u001b[0m \u001b[32m━━━━━━━━━━━━━━━━━━━━\u001b[0m\u001b[37m\u001b[0m \u001b[1m0s\u001b[0m 163ms/step - accuracy: 0.2581 - loss: 4.2351\n",
      "Training data Loss: 4.235093593597412\n",
      "Training data Accuracy: 0.25806450843811035\n"
     ]
    }
   ],
   "source": [
    "train_loss, train_accuracy = model.evaluate(X_train, y_train)\n",
    "print(f\"Training data Loss: {train_loss}\")\n",
    "print(f\"Training data Accuracy: {train_accuracy}\")"
   ]
  },
  {
   "cell_type": "code",
   "execution_count": 19,
   "id": "3b2563dd-968a-4658-b31d-ee3249b3ef17",
   "metadata": {},
   "outputs": [
    {
     "name": "stdout",
     "output_type": "stream",
     "text": [
      "\u001b[1m1/1\u001b[0m \u001b[32m━━━━━━━━━━━━━━━━━━━━\u001b[0m\u001b[37m\u001b[0m \u001b[1m0s\u001b[0m 137ms/step - accuracy: 0.2857 - loss: 4.2332\n",
      "Validation Loss: 4.233163356781006\n",
      "Validation Accuracy: 0.2857142984867096\n"
     ]
    }
   ],
   "source": [
    "val_loss, val_accuracy = model.evaluate(X_val, y_val)\n",
    "print(f\"Validation Loss: {val_loss}\")\n",
    "print(f\"Validation Accuracy: {val_accuracy}\")"
   ]
  },
  {
   "cell_type": "code",
   "execution_count": 20,
   "id": "f8ec872b-5a14-4ce8-93b5-a846f2d065c9",
   "metadata": {},
   "outputs": [
    {
     "name": "stdout",
     "output_type": "stream",
     "text": [
      "\u001b[1m1/1\u001b[0m \u001b[32m━━━━━━━━━━━━━━━━━━━━\u001b[0m\u001b[37m\u001b[0m \u001b[1m0s\u001b[0m 135ms/step - accuracy: 0.2857 - loss: 4.2424\n",
      "Test Loss: 4.242398738861084\n",
      "Test Accuracy: 0.2857142984867096\n"
     ]
    }
   ],
   "source": [
    "test_loss, test_accuracy = model.evaluate(X_test, y_test)\n",
    "print(f\"Test Loss: {test_loss}\")\n",
    "print(f\"Test Accuracy: {test_accuracy}\")"
   ]
  },
  {
   "cell_type": "code",
   "execution_count": 21,
   "id": "43dc6b90-a7e7-4063-882f-514290fb7909",
   "metadata": {},
   "outputs": [
    {
     "name": "stdout",
     "output_type": "stream",
     "text": [
      "The MVP is the highest scorer  0.25806451612903225  of the time in the training set\n"
     ]
    }
   ],
   "source": [
    "count = 0\n",
    "for arr in y_train:\n",
    "    if arr[0] == 1:\n",
    "        count+=1\n",
    "print(\"The MVP is the highest scorer \", count/len(y_train), \" of the time in the training set\")"
   ]
  },
  {
   "cell_type": "code",
   "execution_count": 22,
   "id": "e966409a-08aa-4452-86eb-62402403ddeb",
   "metadata": {},
   "outputs": [
    {
     "name": "stdout",
     "output_type": "stream",
     "text": [
      "The MVP is the highest scorer  0.2857142857142857  of the time in the validation set\n"
     ]
    }
   ],
   "source": [
    "count = 0\n",
    "for arr in y_val:\n",
    "    if arr[0] == 1:\n",
    "        count+=1\n",
    "print(\"The MVP is the highest scorer \", count/len(y_val), \" of the time in the validation set\")"
   ]
  },
  {
   "cell_type": "code",
   "execution_count": 23,
   "id": "159ea957-aadd-4987-9b89-52b301fb29ad",
   "metadata": {},
   "outputs": [
    {
     "name": "stdout",
     "output_type": "stream",
     "text": [
      "The MVP is the highest scorer  0.2857142857142857  of the time in the test set\n"
     ]
    }
   ],
   "source": [
    "count = 0\n",
    "for arr in y_test:\n",
    "    if arr[0] == 1:\n",
    "        count+=1\n",
    "print(\"The MVP is the highest scorer \", count/len(y_val), \" of the time in the test set\")"
   ]
  },
  {
   "cell_type": "code",
   "execution_count": 24,
   "id": "49f74703-4fe0-4b90-91c4-36be39b7a806",
   "metadata": {},
   "outputs": [
    {
     "name": "stdout",
     "output_type": "stream",
     "text": [
      "found  0  MVPs in year 2025\n",
      "\u001b[1m1/1\u001b[0m \u001b[32m━━━━━━━━━━━━━━━━━━━━\u001b[0m\u001b[37m\u001b[0m \u001b[1m4s\u001b[0m 4s/step\n",
      "Giannis Antetokounmpo\n",
      "0       Giannis Antetokounmpo\n",
      "1                 LaMelo Ball\n",
      "2                Nikola Jokić\n",
      "5              Paolo Banchero\n",
      "3     Shai Gilgeous-Alexander\n",
      "11               Kevin Durant\n",
      "19               Franz Wagner\n",
      "13              Jalen Brunson\n",
      "57                Gradey Dick\n",
      "10             Damian Lillard\n",
      "Name: Player, dtype: object\n",
      "[0.01589132 0.01488542 0.01451014 0.0137171  0.01347055 0.01385025\n",
      " 0.01342672 0.01329855 0.01324074 0.01341287 0.0135359  0.01369793\n",
      " 0.01320705 0.01359613 0.013157   0.01289352 0.01324381 0.01307819\n",
      " 0.01320591 0.01362794 0.01313487 0.01307741 0.01313661 0.01322137\n",
      " 0.01318171 0.01316803 0.01312905 0.01307591 0.01341327 0.01315718\n",
      " 0.01342869 0.01347371 0.01314931 0.01317554 0.01322293 0.01330569\n",
      " 0.0133526  0.01311102 0.01314038 0.01335585 0.01330198 0.01313496\n",
      " 0.01332456 0.01338097 0.01320659 0.01318471 0.01313077 0.01332648\n",
      " 0.01326898 0.01311904 0.01319059 0.01335743 0.01320964 0.01325814\n",
      " 0.01320574 0.01313556 0.01314742 0.01358561 0.01331547 0.01323036\n",
      " 0.01317672 0.01314358 0.01318833 0.01325701 0.01319932 0.01309019\n",
      " 0.01336455 0.01310423 0.01314678 0.01325636 0.01299998 0.01317938\n",
      " 0.01313482 0.01303108 0.01335448]\n"
     ]
    }
   ],
   "source": [
    "predict_yr = \"2025\"\n",
    "\n",
    "data = get_final_df_by_year(predict_yr).to_numpy()[:, :-1]\n",
    "shaped_data = data.reshape(1, X_train.shape[1], X_train.shape[2])\n",
    "prediction_arr = model.predict(shaped_data)\n",
    "mvp_idx = prediction_arr[0].argmax()\n",
    "top_10_indices = prediction_arr[0].argsort()[-10:][::-1]\n",
    "\n",
    "mvp = get_top_75_filtered(get_data(predict_yr))['Player'][mvp_idx]\n",
    "top_10_mvps = get_top_75_filtered(get_data(predict_yr))['Player'][top_10_indices]\n",
    "print(mvp)\n",
    "print(top_10_mvps)\n",
    "print(prediction_arr[0])\n",
    "# print(sum(prediction_arr[0]))\n"
   ]
  },
  {
   "cell_type": "code",
   "execution_count": null,
   "id": "1a0a9ea7-0f72-451e-9f3b-e2ba08a90b38",
   "metadata": {},
   "outputs": [],
   "source": []
  }
 ],
 "metadata": {
  "kernelspec": {
   "display_name": "Python 3 (ipykernel)",
   "language": "python",
   "name": "python3"
  },
  "language_info": {
   "codemirror_mode": {
    "name": "ipython",
    "version": 3
   },
   "file_extension": ".py",
   "mimetype": "text/x-python",
   "name": "python",
   "nbconvert_exporter": "python",
   "pygments_lexer": "ipython3",
   "version": "3.11.3"
  }
 },
 "nbformat": 4,
 "nbformat_minor": 5
}
