{
 "cells": [
  {
   "cell_type": "code",
   "execution_count": 78,
   "id": "d31cf1da-cd3e-4a54-8f95-11a42bb0e7d8",
   "metadata": {},
   "outputs": [],
   "source": [
    "import tensorflow as tf\n",
    "import pandas as pd\n",
    "import numpy as np\n",
    "import sys\n",
    "import os\n",
    "\n",
    "from sklearn.preprocessing import StandardScaler\n",
    "from sklearn.model_selection import train_test_split"
   ]
  },
  {
   "cell_type": "markdown",
   "id": "731782c2-5b5d-49d3-9352-44c8079d393f",
   "metadata": {},
   "source": [
    "Notes:\n",
    "* Going to take the top 75 scoring players in the leage\n",
    "    - in 1995-96 season, there were only 92 players in the leage\n",
    "    - lowest ranked scorer that won the mvp was Steve Nash in 2005 where he averaged 15.5 PPG (63rd in the leage)\n",
    "* csv files are in the directory of the 2nd year in the season. ex. the 95-96 season will be in the 1996 directory\n",
    "* in the directory for the year, there is a players.csv file and a teams.csv file\n",
    "    - the teams.csv file is so that I can associate a team record with the players\n",
    "* the mvp.csv dataset is in the outer data dir and has the name of each mvp winner since the 65-66 season\n"
   ]
  },
  {
   "cell_type": "markdown",
   "id": "bb5ddf01-b9c1-440d-84d3-0debe3de840f",
   "metadata": {},
   "source": [
    "**GET DATA SAMPLE**"
   ]
  },
  {
   "cell_type": "code",
   "execution_count": 79,
   "id": "de98369c-7067-41df-800a-426871d44850",
   "metadata": {},
   "outputs": [],
   "source": [
    "# get the data\n",
    "def get_data(year):\n",
    "    players = pd.read_csv(\"data/\" + year + \"/players.csv\")\n",
    "    return players"
   ]
  },
  {
   "cell_type": "code",
   "execution_count": 80,
   "id": "0e6abc30-fc1a-4fd9-a768-bb788bdfa240",
   "metadata": {},
   "outputs": [],
   "source": [
    "# transform the player data into something uniform that we can use\n",
    "def get_top_75_filtered(players):\n",
    "    \n",
    "    # remove entries for players that played on multiple teams, just look at the last team they played for\n",
    "    players_filtered = players.drop_duplicates(subset='Player', keep='last').reset_index()\n",
    "    \n",
    "    # sort by points per game and take top 75 candidates\n",
    "    players_sorted = players_filtered.sort_values(by=\"PTS\", ascending=False)\n",
    "    top_75 = players_sorted.head(75).copy()\n",
    "    \n",
    "    # metrics we are using\n",
    "    metrics = [\"Player\", \"Rk\", \"Age\", \"Team\", \"Pos\", \"G\", \"GS\", \"MP\", \"FG\", \"FGA\", \"FG%\", \"3P\", \"3P%\", \"2P\", \"2PA\", \"2P%\", \"eFG%\", \"FT\", \"FTA\", \"FT%\", \"ORB\", \"DRB\", \"TRB\", \"AST\", \"STL\", \"BLK\", \"TOV\", \"PF\", \"PTS\"]\n",
    "    # metrics = [\"Player\", \"Rk\", \"Age\", \"Team\", \"Pos\", \"G\", \"GS\", \"MP\", \"FG\", \"FGA\", \"FG%\", \"3P\", \"3P%\", \"2P\", \"2PA\", \"2P%\", \"eFG%\", \"FT\", \"FTA\", \"FT%\", \"ORB\", \"DRB\", \"TRB\", \"AST\", \"STL\", \"BLK\", \"TOV\", \"PF\"]\n",
    "    # metrics = [\"Player\", \"Age\", \"Team\", \"Pos\", \"G\", \"GS\", \"MP\", \"FG\", \"FGA\", \"FG%\", \"3P\", \"3P%\", \"2P\", \"2PA\", \"2P%\", \"eFG%\", \"FT\", \"FTA\", \"FT%\", \"ORB\", \"DRB\", \"TRB\", \"AST\", \"STL\", \"BLK\", \"TOV\", \"PF\"]\n",
    "    \n",
    "    # these attributes didn't exist in 1956, so we have to create them\n",
    "    # ['GS', '3P', '3P%', '2P', '2PA', '2P%', 'eFG%', 'ORB', 'DRB', 'STL', 'BLK', 'TOV']\n",
    "    \n",
    "    # assume they started every game they played\n",
    "    if 'GS' not in top_75.columns:\n",
    "        top_75['GS'] = top_75['G']\n",
    "    \n",
    "    # if data came before 3 pointers were invented, they only shot 2 pointers\n",
    "    if '3P' not in top_75.columns:\n",
    "        top_75['3P'] = 0\n",
    "        top_75['3P%'] = 0\n",
    "        top_75['2P'] = top_75['FG']\n",
    "        top_75['2PA'] = top_75['FGA']\n",
    "        top_75['2P%'] = top_75['FG%']\n",
    "        top_75['eFG%'] = top_75['FG%']\n",
    "    \n",
    "    # if they didn't track offensive/deffensive rebounds, assume 3/4 of the rebounds were on defense\n",
    "    if 'ORB' not in top_75.columns or 'DRB' not in top_75.columns:\n",
    "        top_75['ORB'] = top_75['TRB']/4\n",
    "        top_75['DRB'] = top_75['TRB'] - top_75['ORB']\n",
    "    \n",
    "    # assume steals, blocks, and turnovers are all 0 unless specified\n",
    "    if 'STL' not in top_75.columns:\n",
    "        top_75['STL'] = 0\n",
    "    \n",
    "    if 'BLK' not in top_75.columns:\n",
    "        top_75['BLK'] = 0\n",
    "    \n",
    "    if 'TOV' not in top_75.columns:\n",
    "        top_75['TOV'] = 0\n",
    "    \n",
    "    top_75_filtered = top_75[metrics]\n",
    "    # top_75_filtered_random_order = top_75_filtered.sample(frac=1, random_state=42).reset_index(drop=True)\n",
    "    return top_75_filtered\n"
   ]
  },
  {
   "cell_type": "code",
   "execution_count": 81,
   "id": "a03cca7d-161a-4f18-99ba-3f779c390423",
   "metadata": {},
   "outputs": [],
   "source": [
    "# get the team data and turn it into something usable\n",
    "\n",
    "def get_team_data(year):\n",
    "    teams_vs = pd.read_csv(\"data/\" + year + \"/teams.csv\")\n",
    "    teams_vs = teams_vs.drop(columns=['Rk'])\n",
    "    \n",
    "    teams = pd.DataFrame(columns=['Team', 'Abbreviation', 'Wins', 'Losses', 'Win%'])\n",
    "    \n",
    "    # Get abbreviation and record\n",
    "    for index, row in teams_vs.iterrows():\n",
    "    \n",
    "        # extract wins and losses\n",
    "        row_wins = 0\n",
    "        row_losses = 0\n",
    "        for record in row:\n",
    "            if pd.notna(record) and len(record) < 6:\n",
    "                win_loss = record.split('-')\n",
    "                row_wins += int(win_loss[0])\n",
    "                row_losses += int(win_loss[1])\n",
    "    \n",
    "        # print(\"The \" + row['Team'] + \" have won \", row_wins, \" and lost \", row_losses, \" games\")\n",
    "    \n",
    "        # don't divide by 0\n",
    "        if row_losses == 0:\n",
    "            win_pct = 1\n",
    "        else:\n",
    "            win_pct = row_wins/(row_losses+row_wins)\n",
    "    \n",
    "        # add to df    \n",
    "        teams.loc[len(teams)] = ({'Team': row['Team'], 'Abbreviation': row.index[row.name + 1], 'Wins': row_wins, 'Losses': row_losses, 'Win%': win_pct})\n",
    "    \n",
    "    # get overall team rank in the nba\n",
    "    teams = teams.sort_values(by='Win%', ascending=False)\n",
    "    teams = teams.reset_index(drop=True)\n",
    "    teams['Rank'] = teams.index+1\n",
    "    \n",
    "    return teams\n",
    "\n",
    "# get_team_data(\"2025\")"
   ]
  },
  {
   "cell_type": "code",
   "execution_count": 82,
   "id": "6046e44a-feac-4532-805c-1e41e3e14699",
   "metadata": {},
   "outputs": [],
   "source": [
    "# combine into final dataframe\n",
    "def merge_data(top_75_filtered, teams):\n",
    "    player_season_final_df = pd.merge(top_75_filtered, teams, left_on='Team', right_on='Abbreviation')\n",
    "    # print(player_season_final_df.head())\n",
    "    return player_season_final_df"
   ]
  },
  {
   "cell_type": "code",
   "execution_count": 83,
   "id": "3a25c8f4-17cb-4de1-be32-280bc82e82dd",
   "metadata": {},
   "outputs": [],
   "source": [
    "# verify that all teams matched, this should print an empty dataframe\n",
    "def verify_team_match(top_75_filtered, teams):\n",
    "    unmatched_teams = top_75_filtered[~top_75_filtered['Team'].isin(teams['Abbreviation'])]\n",
    "    if len(unmatched_teams['Team']) > 0:\n",
    "        print(unmatched_teams)\n",
    "        return 1\n",
    "    return 0\n",
    "        "
   ]
  },
  {
   "cell_type": "code",
   "execution_count": 84,
   "id": "b6b5d5e4-af6b-4b97-b997-66019d92bb83",
   "metadata": {},
   "outputs": [],
   "source": [
    "# only keep numerical variables, don't worry about player name, team name, etc\n",
    "def get_numerical_df(player_season_final_df):\n",
    "    numerical_df = player_season_final_df.select_dtypes(include=['number'])\n",
    "    return numerical_df"
   ]
  },
  {
   "cell_type": "code",
   "execution_count": 85,
   "id": "8907c2c3-9f11-4364-8902-600cb3b95312",
   "metadata": {},
   "outputs": [],
   "source": [
    "def get_mvp_by_year(year):\n",
    "    mvps = pd.read_csv(\"data/mvps.csv\")\n",
    "    result = mvps.loc[mvps['Season'].str[:4].astype(int) == int(year) - 1, 'Player'].values\n",
    "\n",
    "    if(len(result) == 1):\n",
    "        return result[0]\n",
    "    else:\n",
    "        print(\"found \", len(result), \" MVPs in year \" + year)"
   ]
  },
  {
   "cell_type": "code",
   "execution_count": 86,
   "id": "237d5b89-e65b-426b-851c-2fbab9a9c1d6",
   "metadata": {},
   "outputs": [],
   "source": [
    "def get_final_df_by_year(year):\n",
    "    # get the data\n",
    "    og_data = get_data(year)\n",
    "    top_75 = get_top_75_filtered(og_data)\n",
    "    team_data = get_team_data(year)\n",
    "\n",
    "    # merge it\n",
    "    player_team_combined = merge_data(top_75, team_data)\n",
    "\n",
    "    # add year and MVP attribute\n",
    "    player_team_combined['Year'] = int(year)\n",
    "\n",
    "    # mvp = get_mvp_by\n",
    "    player_team_combined['MVP'] = (player_team_combined['Player'] == get_mvp_by_year(year)).astype(int)    \n",
    "\n",
    "    # verify merge worked correctly\n",
    "    if verify_team_match(top_75, team_data) > 0:\n",
    "        print(\"Team merge did not work correctly. Aborting\")\n",
    "        sys.exit()\n",
    "\n",
    "    # print(player_team_combined.head())\n",
    "\n",
    "    # get only numeric variables\n",
    "    numerical_df = get_numerical_df(player_team_combined)\n",
    "    return numerical_df\n",
    "\n",
    "# get_final_df_by_year(\"2025\")"
   ]
  },
  {
   "cell_type": "code",
   "execution_count": 87,
   "id": "6859308a-037e-4331-9d2a-44894cd08bba",
   "metadata": {},
   "outputs": [],
   "source": [
    "def get_all_years_arr():\n",
    "    scaler = StandardScaler()\n",
    "    \n",
    "    all_years_df = []\n",
    "    # get all the data from all the years\n",
    "    for year_dir in os.listdir(\"data\"):\n",
    "\n",
    "        #skip current year\n",
    "        if year_dir == \"2025\": # or (year_dir != \"mvps.csv\" and int(year_dir) < 1980):\n",
    "            continue\n",
    "            \n",
    "        # verify that the item is a directory and not a file. the mvps.csv file will be ignored\n",
    "        if os.path.isdir(os.path.join(\"data\", year_dir)):\n",
    "            year_df = get_final_df_by_year(year_dir)\n",
    "            # scaled_year = scaler.fit_transform(year_df)\n",
    "            # scaled_year_df = pd.DataFrame(scaled_year, columns=year_df.columns)\n",
    "            all_years_df.append(year_df)\n",
    "\n",
    "    # all_data = pd.concat(all_years_df, ignore_index=True)\n",
    "    \n",
    "    # print(all_years_df)\n",
    "    return np.array(all_years_df)\n",
    "       \n",
    "    \n"
   ]
  },
  {
   "cell_type": "markdown",
   "id": "160c450d-1b6d-4e05-85dc-52662200e20b",
   "metadata": {},
   "source": [
    "**MAKE MODEL**"
   ]
  },
  {
   "cell_type": "code",
   "execution_count": 88,
   "id": "f5aa66b8-dc3e-4a6a-a83e-866b7194b228",
   "metadata": {},
   "outputs": [
    {
     "name": "stderr",
     "output_type": "stream",
     "text": [
      "C:\\Python311\\Lib\\site-packages\\keras\\src\\layers\\core\\input_layer.py:26: UserWarning: Argument `input_shape` is deprecated. Use `shape` instead.\n",
      "  warnings.warn(\n"
     ]
    }
   ],
   "source": [
    "# tf.random.set_seed(42)\n",
    "# model = tf.keras.Sequential()\n",
    "# model.add(tf.keras.layers.InputLayer(input_shape=[75, 31]))\n",
    "# model.add(tf.keras.layers.Flatten())\n",
    "# model.add(tf.keras.layers.Dense(100, activation=\"relu\"))\n",
    "# model.add(tf.keras.layers.Dense(100, activation=\"relu\"))\n",
    "# model.add(tf.keras.layers.Dense(75, activation=\"softmax\"))\n",
    "\n",
    "# model = tf.keras.Sequential([\n",
    "#     tf.keras.layers.InputLayer(input_shape=[75, 31, 1]),\n",
    "#     tf.keras.layers.Conv2D(filters=32, kernel_size=(1, 31), strides=(1, 31), padding='valid', activation='relu'),\n",
    "#     tf.keras.layers.Conv2D(32, (3, 3), activation='relu', padding='same'),\n",
    "#     tf.keras.layers.MaxPooling2D(pool_size=(2, 2)),\n",
    "#     tf.keras.layers.Conv2D(64, (3, 3), activation='relu', padding='same'),\n",
    "#     tf.keras.layers.Flatten(),\n",
    "#     tf.keras.layers.Dense(75, activation='softmax')  # Output 75 categories\n",
    "# ])\n",
    "\n",
    "\n",
    "tf.random.set_seed(42)\n",
    "model = tf.keras.Sequential()\n",
    "model.add(tf.keras.layers.InputLayer(input_shape=[75, 31]))\n",
    "\n",
    "# Apply TimeDistributed Dense layers to process each player's features independently\n",
    "model.add(tf.keras.layers.TimeDistributed(tf.keras.layers.Dense(100, activation=\"relu\")))\n",
    "model.add(tf.keras.layers.TimeDistributed(tf.keras.layers.Dense(100, activation=\"relu\")))\n",
    "\n",
    "# Output layer: Process each player independently, without activation\n",
    "model.add(tf.keras.layers.TimeDistributed(tf.keras.layers.Dense(1)))\n",
    "\n",
    "model.add(tf.keras.layers.Flatten())\n",
    "\n",
    "# Apply softmax across the 75 players\n",
    "model.add(tf.keras.layers.Dense(75, activation=\"softmax\"))\n"
   ]
  },
  {
   "cell_type": "code",
   "execution_count": 89,
   "id": "e42e6d34-119b-4719-af63-064303ace1d7",
   "metadata": {},
   "outputs": [
    {
     "data": {
      "text/html": [
       "<pre style=\"white-space:pre;overflow-x:auto;line-height:normal;font-family:Menlo,'DejaVu Sans Mono',consolas,'Courier New',monospace\"><span style=\"font-weight: bold\">Model: \"sequential_6\"</span>\n",
       "</pre>\n"
      ],
      "text/plain": [
       "\u001b[1mModel: \"sequential_6\"\u001b[0m\n"
      ]
     },
     "metadata": {},
     "output_type": "display_data"
    },
    {
     "data": {
      "text/html": [
       "<pre style=\"white-space:pre;overflow-x:auto;line-height:normal;font-family:Menlo,'DejaVu Sans Mono',consolas,'Courier New',monospace\">┏━━━━━━━━━━━━━━━━━━━━━━━━━━━━━━━━━━━━━━┳━━━━━━━━━━━━━━━━━━━━━━━━━━━━━┳━━━━━━━━━━━━━━━━━┓\n",
       "┃<span style=\"font-weight: bold\"> Layer (type)                         </span>┃<span style=\"font-weight: bold\"> Output Shape                </span>┃<span style=\"font-weight: bold\">         Param # </span>┃\n",
       "┡━━━━━━━━━━━━━━━━━━━━━━━━━━━━━━━━━━━━━━╇━━━━━━━━━━━━━━━━━━━━━━━━━━━━━╇━━━━━━━━━━━━━━━━━┩\n",
       "│ time_distributed_14                  │ (<span style=\"color: #00d7ff; text-decoration-color: #00d7ff\">None</span>, <span style=\"color: #00af00; text-decoration-color: #00af00\">75</span>, <span style=\"color: #00af00; text-decoration-color: #00af00\">100</span>)             │           <span style=\"color: #00af00; text-decoration-color: #00af00\">3,200</span> │\n",
       "│ (<span style=\"color: #0087ff; text-decoration-color: #0087ff\">TimeDistributed</span>)                    │                             │                 │\n",
       "├──────────────────────────────────────┼─────────────────────────────┼─────────────────┤\n",
       "│ time_distributed_15                  │ (<span style=\"color: #00d7ff; text-decoration-color: #00d7ff\">None</span>, <span style=\"color: #00af00; text-decoration-color: #00af00\">75</span>, <span style=\"color: #00af00; text-decoration-color: #00af00\">100</span>)             │          <span style=\"color: #00af00; text-decoration-color: #00af00\">10,100</span> │\n",
       "│ (<span style=\"color: #0087ff; text-decoration-color: #0087ff\">TimeDistributed</span>)                    │                             │                 │\n",
       "├──────────────────────────────────────┼─────────────────────────────┼─────────────────┤\n",
       "│ time_distributed_16                  │ (<span style=\"color: #00d7ff; text-decoration-color: #00d7ff\">None</span>, <span style=\"color: #00af00; text-decoration-color: #00af00\">75</span>, <span style=\"color: #00af00; text-decoration-color: #00af00\">1</span>)               │             <span style=\"color: #00af00; text-decoration-color: #00af00\">101</span> │\n",
       "│ (<span style=\"color: #0087ff; text-decoration-color: #0087ff\">TimeDistributed</span>)                    │                             │                 │\n",
       "├──────────────────────────────────────┼─────────────────────────────┼─────────────────┤\n",
       "│ flatten_6 (<span style=\"color: #0087ff; text-decoration-color: #0087ff\">Flatten</span>)                  │ (<span style=\"color: #00d7ff; text-decoration-color: #00d7ff\">None</span>, <span style=\"color: #00af00; text-decoration-color: #00af00\">75</span>)                  │               <span style=\"color: #00af00; text-decoration-color: #00af00\">0</span> │\n",
       "├──────────────────────────────────────┼─────────────────────────────┼─────────────────┤\n",
       "│ dense_21 (<span style=\"color: #0087ff; text-decoration-color: #0087ff\">Dense</span>)                     │ (<span style=\"color: #00d7ff; text-decoration-color: #00d7ff\">None</span>, <span style=\"color: #00af00; text-decoration-color: #00af00\">75</span>)                  │           <span style=\"color: #00af00; text-decoration-color: #00af00\">5,700</span> │\n",
       "└──────────────────────────────────────┴─────────────────────────────┴─────────────────┘\n",
       "</pre>\n"
      ],
      "text/plain": [
       "┏━━━━━━━━━━━━━━━━━━━━━━━━━━━━━━━━━━━━━━┳━━━━━━━━━━━━━━━━━━━━━━━━━━━━━┳━━━━━━━━━━━━━━━━━┓\n",
       "┃\u001b[1m \u001b[0m\u001b[1mLayer (type)                        \u001b[0m\u001b[1m \u001b[0m┃\u001b[1m \u001b[0m\u001b[1mOutput Shape               \u001b[0m\u001b[1m \u001b[0m┃\u001b[1m \u001b[0m\u001b[1m        Param #\u001b[0m\u001b[1m \u001b[0m┃\n",
       "┡━━━━━━━━━━━━━━━━━━━━━━━━━━━━━━━━━━━━━━╇━━━━━━━━━━━━━━━━━━━━━━━━━━━━━╇━━━━━━━━━━━━━━━━━┩\n",
       "│ time_distributed_14                  │ (\u001b[38;5;45mNone\u001b[0m, \u001b[38;5;34m75\u001b[0m, \u001b[38;5;34m100\u001b[0m)             │           \u001b[38;5;34m3,200\u001b[0m │\n",
       "│ (\u001b[38;5;33mTimeDistributed\u001b[0m)                    │                             │                 │\n",
       "├──────────────────────────────────────┼─────────────────────────────┼─────────────────┤\n",
       "│ time_distributed_15                  │ (\u001b[38;5;45mNone\u001b[0m, \u001b[38;5;34m75\u001b[0m, \u001b[38;5;34m100\u001b[0m)             │          \u001b[38;5;34m10,100\u001b[0m │\n",
       "│ (\u001b[38;5;33mTimeDistributed\u001b[0m)                    │                             │                 │\n",
       "├──────────────────────────────────────┼─────────────────────────────┼─────────────────┤\n",
       "│ time_distributed_16                  │ (\u001b[38;5;45mNone\u001b[0m, \u001b[38;5;34m75\u001b[0m, \u001b[38;5;34m1\u001b[0m)               │             \u001b[38;5;34m101\u001b[0m │\n",
       "│ (\u001b[38;5;33mTimeDistributed\u001b[0m)                    │                             │                 │\n",
       "├──────────────────────────────────────┼─────────────────────────────┼─────────────────┤\n",
       "│ flatten_6 (\u001b[38;5;33mFlatten\u001b[0m)                  │ (\u001b[38;5;45mNone\u001b[0m, \u001b[38;5;34m75\u001b[0m)                  │               \u001b[38;5;34m0\u001b[0m │\n",
       "├──────────────────────────────────────┼─────────────────────────────┼─────────────────┤\n",
       "│ dense_21 (\u001b[38;5;33mDense\u001b[0m)                     │ (\u001b[38;5;45mNone\u001b[0m, \u001b[38;5;34m75\u001b[0m)                  │           \u001b[38;5;34m5,700\u001b[0m │\n",
       "└──────────────────────────────────────┴─────────────────────────────┴─────────────────┘\n"
      ]
     },
     "metadata": {},
     "output_type": "display_data"
    },
    {
     "data": {
      "text/html": [
       "<pre style=\"white-space:pre;overflow-x:auto;line-height:normal;font-family:Menlo,'DejaVu Sans Mono',consolas,'Courier New',monospace\"><span style=\"font-weight: bold\"> Total params: </span><span style=\"color: #00af00; text-decoration-color: #00af00\">19,101</span> (74.61 KB)\n",
       "</pre>\n"
      ],
      "text/plain": [
       "\u001b[1m Total params: \u001b[0m\u001b[38;5;34m19,101\u001b[0m (74.61 KB)\n"
      ]
     },
     "metadata": {},
     "output_type": "display_data"
    },
    {
     "data": {
      "text/html": [
       "<pre style=\"white-space:pre;overflow-x:auto;line-height:normal;font-family:Menlo,'DejaVu Sans Mono',consolas,'Courier New',monospace\"><span style=\"font-weight: bold\"> Trainable params: </span><span style=\"color: #00af00; text-decoration-color: #00af00\">19,101</span> (74.61 KB)\n",
       "</pre>\n"
      ],
      "text/plain": [
       "\u001b[1m Trainable params: \u001b[0m\u001b[38;5;34m19,101\u001b[0m (74.61 KB)\n"
      ]
     },
     "metadata": {},
     "output_type": "display_data"
    },
    {
     "data": {
      "text/html": [
       "<pre style=\"white-space:pre;overflow-x:auto;line-height:normal;font-family:Menlo,'DejaVu Sans Mono',consolas,'Courier New',monospace\"><span style=\"font-weight: bold\"> Non-trainable params: </span><span style=\"color: #00af00; text-decoration-color: #00af00\">0</span> (0.00 B)\n",
       "</pre>\n"
      ],
      "text/plain": [
       "\u001b[1m Non-trainable params: \u001b[0m\u001b[38;5;34m0\u001b[0m (0.00 B)\n"
      ]
     },
     "metadata": {},
     "output_type": "display_data"
    }
   ],
   "source": [
    "model.summary()"
   ]
  },
  {
   "cell_type": "code",
   "execution_count": 90,
   "id": "01e0aac2-1354-493b-a736-dab08a27fbff",
   "metadata": {},
   "outputs": [],
   "source": [
    "# optimizer = tf.keras.optimizers.Adam(learning_rate=1e-2)\n",
    "optimizer = tf.keras.optimizers.SGD(learning_rate=0.01)\n",
    "model.compile(loss=\"categorical_crossentropy\",\n",
    "              optimizer=optimizer,\n",
    "              metrics=[\"binary_accuracy\"])"
   ]
  },
  {
   "cell_type": "markdown",
   "id": "68d217a2-777e-4959-abcd-a54241e7580d",
   "metadata": {},
   "source": [
    "**TRAIN MODEL**"
   ]
  },
  {
   "cell_type": "code",
   "execution_count": 91,
   "id": "55044d5a-5fc6-4f09-8828-b7f10b0bdf19",
   "metadata": {},
   "outputs": [],
   "source": [
    "# get data for model\n",
    "all_years_arr = get_all_years_arr()\n",
    "\n",
    "#split into training/validation\n",
    "train_arr, val_arr = train_test_split(all_years_arr, test_size=0.1, random_state=42)\n",
    "\n",
    "X_train = train_arr[:, :, :-1]\n",
    "y_train = train_arr[:, :, -1]\n",
    "X_val = val_arr[:, :, :-1]\n",
    "y_val = val_arr[:, :, -1]\n",
    "\n",
    "# print(X_train.shape)\n",
    "# print(y_train.shape)\n",
    "# print(X_val)\n",
    "# print(y_val)\n",
    "\n",
    "\n",
    "\n"
   ]
  },
  {
   "cell_type": "code",
   "execution_count": 92,
   "id": "ade2dc3c-bdac-496f-a6c2-52cebd3fa1e4",
   "metadata": {},
   "outputs": [
    {
     "name": "stdout",
     "output_type": "stream",
     "text": [
      "Epoch 1/20\n",
      "\u001b[1m62/62\u001b[0m \u001b[32m━━━━━━━━━━━━━━━━━━━━\u001b[0m\u001b[37m\u001b[0m \u001b[1m28s\u001b[0m 109ms/step - binary_accuracy: 0.9781 - loss: 952768768.0000 - val_binary_accuracy: 0.9733 - val_loss: 1918893952.0000\n",
      "Epoch 2/20\n",
      "\u001b[1m62/62\u001b[0m \u001b[32m━━━━━━━━━━━━━━━━━━━━\u001b[0m\u001b[37m\u001b[0m \u001b[1m1s\u001b[0m 21ms/step - binary_accuracy: 0.9810 - loss: 643418176.0000 - val_binary_accuracy: 0.9733 - val_loss: 1188673920.0000\n",
      "Epoch 3/20\n",
      "\u001b[1m62/62\u001b[0m \u001b[32m━━━━━━━━━━━━━━━━━━━━\u001b[0m\u001b[37m\u001b[0m \u001b[1m1s\u001b[0m 22ms/step - binary_accuracy: 0.9810 - loss: 501488192.0000 - val_binary_accuracy: 0.9733 - val_loss: 316147360.0000\n",
      "Epoch 4/20\n",
      "\u001b[1m62/62\u001b[0m \u001b[32m━━━━━━━━━━━━━━━━━━━━\u001b[0m\u001b[37m\u001b[0m \u001b[1m1s\u001b[0m 21ms/step - binary_accuracy: 0.9792 - loss: 492207520.0000 - val_binary_accuracy: 0.9733 - val_loss: 280778272.0000\n",
      "Epoch 5/20\n",
      "\u001b[1m62/62\u001b[0m \u001b[32m━━━━━━━━━━━━━━━━━━━━\u001b[0m\u001b[37m\u001b[0m \u001b[1m2s\u001b[0m 24ms/step - binary_accuracy: 0.9802 - loss: 318647840.0000 - val_binary_accuracy: 0.9848 - val_loss: 74818680.0000\n",
      "Epoch 6/20\n",
      "\u001b[1m62/62\u001b[0m \u001b[32m━━━━━━━━━━━━━━━━━━━━\u001b[0m\u001b[37m\u001b[0m \u001b[1m1s\u001b[0m 20ms/step - binary_accuracy: 0.9789 - loss: 271016288.0000 - val_binary_accuracy: 0.9848 - val_loss: 132407728.0000\n",
      "Epoch 7/20\n",
      "\u001b[1m62/62\u001b[0m \u001b[32m━━━━━━━━━━━━━━━━━━━━\u001b[0m\u001b[37m\u001b[0m \u001b[1m1s\u001b[0m 22ms/step - binary_accuracy: 0.9814 - loss: 130960392.0000 - val_binary_accuracy: 0.9848 - val_loss: 75889672.0000\n",
      "Epoch 8/20\n",
      "\u001b[1m62/62\u001b[0m \u001b[32m━━━━━━━━━━━━━━━━━━━━\u001b[0m\u001b[37m\u001b[0m \u001b[1m1s\u001b[0m 20ms/step - binary_accuracy: 0.9812 - loss: 68853552.0000 - val_binary_accuracy: 0.9848 - val_loss: 5846170.5000\n",
      "Epoch 9/20\n",
      "\u001b[1m62/62\u001b[0m \u001b[32m━━━━━━━━━━━━━━━━━━━━\u001b[0m\u001b[37m\u001b[0m \u001b[1m1s\u001b[0m 20ms/step - binary_accuracy: 0.9773 - loss: 33005776.0000 - val_binary_accuracy: 0.9771 - val_loss: 27026886.0000\n",
      "Epoch 10/20\n",
      "\u001b[1m62/62\u001b[0m \u001b[32m━━━━━━━━━━━━━━━━━━━━\u001b[0m\u001b[37m\u001b[0m \u001b[1m1s\u001b[0m 21ms/step - binary_accuracy: 0.9772 - loss: 23838436.0000 - val_binary_accuracy: 0.9771 - val_loss: 7853063.0000\n",
      "Epoch 11/20\n",
      "\u001b[1m62/62\u001b[0m \u001b[32m━━━━━━━━━━━━━━━━━━━━\u001b[0m\u001b[37m\u001b[0m \u001b[1m1s\u001b[0m 20ms/step - binary_accuracy: 0.9784 - loss: 10776298.0000 - val_binary_accuracy: 0.9733 - val_loss: 6567371.0000\n",
      "Epoch 12/20\n",
      "\u001b[1m62/62\u001b[0m \u001b[32m━━━━━━━━━━━━━━━━━━━━\u001b[0m\u001b[37m\u001b[0m \u001b[1m1s\u001b[0m 21ms/step - binary_accuracy: 0.9778 - loss: 7917419.5000 - val_binary_accuracy: 0.9771 - val_loss: 7740804.0000\n",
      "Epoch 13/20\n",
      "\u001b[1m62/62\u001b[0m \u001b[32m━━━━━━━━━━━━━━━━━━━━\u001b[0m\u001b[37m\u001b[0m \u001b[1m1s\u001b[0m 19ms/step - binary_accuracy: 0.9779 - loss: 8273028.0000 - val_binary_accuracy: 0.9771 - val_loss: 16609403.0000\n",
      "Epoch 14/20\n",
      "\u001b[1m62/62\u001b[0m \u001b[32m━━━━━━━━━━━━━━━━━━━━\u001b[0m\u001b[37m\u001b[0m \u001b[1m1s\u001b[0m 19ms/step - binary_accuracy: 0.9787 - loss: 12614009.0000 - val_binary_accuracy: 0.9771 - val_loss: 2221871.0000\n",
      "Epoch 15/20\n",
      "\u001b[1m62/62\u001b[0m \u001b[32m━━━━━━━━━━━━━━━━━━━━\u001b[0m\u001b[37m\u001b[0m \u001b[1m1s\u001b[0m 18ms/step - binary_accuracy: 0.9777 - loss: 4918335.5000 - val_binary_accuracy: 0.9733 - val_loss: 7168707.0000\n",
      "Epoch 16/20\n",
      "\u001b[1m62/62\u001b[0m \u001b[32m━━━━━━━━━━━━━━━━━━━━\u001b[0m\u001b[37m\u001b[0m \u001b[1m1s\u001b[0m 20ms/step - binary_accuracy: 0.9785 - loss: 5791515.0000 - val_binary_accuracy: 0.9733 - val_loss: 1258563.1250\n",
      "Epoch 17/20\n",
      "\u001b[1m62/62\u001b[0m \u001b[32m━━━━━━━━━━━━━━━━━━━━\u001b[0m\u001b[37m\u001b[0m \u001b[1m1s\u001b[0m 20ms/step - binary_accuracy: 0.9798 - loss: 4791979.0000 - val_binary_accuracy: 0.9733 - val_loss: 7181480.5000\n",
      "Epoch 18/20\n",
      "\u001b[1m62/62\u001b[0m \u001b[32m━━━━━━━━━━━━━━━━━━━━\u001b[0m\u001b[37m\u001b[0m \u001b[1m1s\u001b[0m 22ms/step - binary_accuracy: 0.9783 - loss: 5171671.0000 - val_binary_accuracy: 0.9771 - val_loss: 3099206.2500\n",
      "Epoch 19/20\n",
      "\u001b[1m62/62\u001b[0m \u001b[32m━━━━━━━━━━━━━━━━━━━━\u001b[0m\u001b[37m\u001b[0m \u001b[1m2s\u001b[0m 26ms/step - binary_accuracy: 0.9778 - loss: 1297412.5000 - val_binary_accuracy: 0.9771 - val_loss: 419893.5000\n",
      "Epoch 20/20\n",
      "\u001b[1m62/62\u001b[0m \u001b[32m━━━━━━━━━━━━━━━━━━━━\u001b[0m\u001b[37m\u001b[0m \u001b[1m1s\u001b[0m 23ms/step - binary_accuracy: 0.9788 - loss: 4078632.7500 - val_binary_accuracy: 0.9848 - val_loss: 6061719.0000\n"
     ]
    }
   ],
   "source": [
    "history = model.fit(X_train, y_train, epochs=20, batch_size=1, validation_data=(X_val, y_val))"
   ]
  },
  {
   "cell_type": "code",
   "execution_count": 93,
   "id": "49f74703-4fe0-4b90-91c4-36be39b7a806",
   "metadata": {},
   "outputs": [
    {
     "name": "stdout",
     "output_type": "stream",
     "text": [
      "found  0  MVPs in year 2025\n",
      "\u001b[1m1/1\u001b[0m \u001b[32m━━━━━━━━━━━━━━━━━━━━\u001b[0m\u001b[37m\u001b[0m \u001b[1m5s\u001b[0m 5s/step\n",
      "Giannis Antetokounmpo\n",
      "0     Giannis Antetokounmpo\n",
      "18            Jalen Brunson\n",
      "20           Brandon Ingram\n",
      "21             Devin Booker\n",
      "22          Cade Cunningham\n",
      "23             LeBron James\n",
      "24            Norman Powell\n",
      "25               RJ Barrett\n",
      "26        Jaren Jackson Jr.\n",
      "27            Stephen Curry\n",
      "Name: Player, dtype: object\n",
      "[1. 0. 0. 0. 0. 0. 0. 0. 0. 0. 0. 0. 0. 0. 0. 0. 0. 0. 0. 0. 0. 0. 0. 0.\n",
      " 0. 0. 0. 0. 0. 0. 0. 0. 0. 0. 0. 0. 0. 0. 0. 0. 0. 0. 0. 0. 0. 0. 0. 0.\n",
      " 0. 0. 0. 0. 0. 0. 0. 0. 0. 0. 0. 0. 0. 0. 0. 0. 0. 0. 0. 0. 0. 0. 0. 0.\n",
      " 0. 0. 0.]\n"
     ]
    }
   ],
   "source": [
    "predict_yr = \"2025\"\n",
    "\n",
    "data = get_final_df_by_year(predict_yr).to_numpy()[:, :-1]\n",
    "shaped_data = data.reshape(1, 75, 31)\n",
    "prediction_arr = model.predict(shaped_data)\n",
    "mvp_idx = prediction_arr[0].argmax()\n",
    "top_10_indices = prediction_arr[0].argsort()[-10:][::-1]\n",
    "\n",
    "mvp = get_top_75_filtered(get_data(predict_yr))['Player'][mvp_idx]\n",
    "top_10_mvps = get_top_75_filtered(get_data(predict_yr))['Player'][top_10_indices]\n",
    "print(mvp)\n",
    "print(top_10_mvps)\n",
    "print(prediction_arr[0])\n"
   ]
  },
  {
   "cell_type": "code",
   "execution_count": null,
   "id": "359d2257-caa6-4a95-ac01-e5fba579c8d7",
   "metadata": {},
   "outputs": [],
   "source": []
  }
 ],
 "metadata": {
  "kernelspec": {
   "display_name": "Python 3 (ipykernel)",
   "language": "python",
   "name": "python3"
  },
  "language_info": {
   "codemirror_mode": {
    "name": "ipython",
    "version": 3
   },
   "file_extension": ".py",
   "mimetype": "text/x-python",
   "name": "python",
   "nbconvert_exporter": "python",
   "pygments_lexer": "ipython3",
   "version": "3.11.3"
  }
 },
 "nbformat": 4,
 "nbformat_minor": 5
}
